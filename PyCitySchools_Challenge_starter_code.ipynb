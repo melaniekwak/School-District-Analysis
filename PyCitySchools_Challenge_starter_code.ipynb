{
 "cells": [
  {
   "cell_type": "code",
   "execution_count": 1,
   "metadata": {},
   "outputs": [
    {
     "data": {
      "text/plain": [
       "Student ID       39170\n",
       "student_name     39170\n",
       "gender           39170\n",
       "grade            39170\n",
       "school_name      39170\n",
       "reading_score    39170\n",
       "math_score       39170\n",
       "Unnamed: 7           0\n",
       "Unnamed: 8           2\n",
       "dtype: int64"
      ]
     },
     "execution_count": 1,
     "metadata": {},
     "output_type": "execute_result"
    }
   ],
   "source": [
    "# Dependencies and Setup\n",
    "import pandas as pd\n",
    "\n",
    "# File to Load (Remember to change the path if needed.)\n",
    "school_data_to_load = \"Resources/schools_complete.csv\"\n",
    "student_data_to_load = \"Resources/students_complete.csv\"\n",
    "\n",
    "# Read the School Data and Student Data and store into a Pandas DataFrame\n",
    "school_data_df = pd.read_csv(school_data_to_load)\n",
    "student_data_df = pd.read_csv(student_data_to_load)\n",
    "\n",
    "# Cleaning Student Names and Replacing Substrings in a Python String\n",
    "# Add each prefix and suffix to remove to a list.\n",
    "prefixes_suffixes = [\"Dr. \", \"Mr. \",\"Ms. \", \"Mrs. \", \"Miss \", \" MD\", \" DDS\", \" DVM\", \" PhD\"]\n",
    "\n",
    "# Iterate through the words in the \"prefixes_suffixes\" list and replace them with an empty space, \"\".\n",
    "for word in prefixes_suffixes:\n",
    "    student_data_df[\"student_name\"] = student_data_df[\"student_name\"].str.replace(word,\"\")\n",
    "\n",
    "# Check names.\n",
    "student_data_df.count()"
   ]
  },
  {
   "cell_type": "markdown",
   "metadata": {},
   "source": [
    "## Deliverable 1: Replace the reading and math scores.\n",
    "\n",
    "### Replace the 9th grade reading and math scores at Thomas High School with NaN."
   ]
  },
  {
   "cell_type": "code",
   "execution_count": 2,
   "metadata": {},
   "outputs": [],
   "source": [
    "# Install numpy using conda install numpy or pip install numpy. \n",
    "# Step 1. Import numpy as np.\n",
    "import numpy as np"
   ]
  },
  {
   "cell_type": "code",
   "execution_count": 3,
   "metadata": {},
   "outputs": [],
   "source": [
    "# Step 2. Use the loc method on the student_data_df to select all the reading scores from the 9th grade at Thomas High School and replace them with NaN.\n",
    "#student_data_df.loc[(student_data_df[\"school_name\"] == \"Thomas High School\") & (student_data_df[\"grade\"] == \"9th\"), \"reading_score\"] = np.nan\n"
   ]
  },
  {
   "cell_type": "code",
   "execution_count": 4,
   "metadata": {},
   "outputs": [],
   "source": [
    "#  Step 3. Refactor the code in Step 2 to replace the math scores with NaN.\n",
    "#student_data_df.loc[(student_data_df[\"school_name\"] == \"Thomas High School\") & (student_data_df[\"grade\"] == \"9th\"), \"math_score\"] = np.nan\n"
   ]
  },
  {
   "cell_type": "code",
   "execution_count": 5,
   "metadata": {},
   "outputs": [
    {
     "data": {
      "text/plain": [
       "39170"
      ]
     },
     "execution_count": 5,
     "metadata": {},
     "output_type": "execute_result"
    }
   ],
   "source": [
    "#  Step 4. Check the student data for NaN's. \n",
    "#student_data_df.count()\n",
    "len(student_data_df[\"math_score\"])"
   ]
  },
  {
   "cell_type": "markdown",
   "metadata": {},
   "source": [
    "## Deliverable 2 : Repeat the school district analysis"
   ]
  },
  {
   "cell_type": "markdown",
   "metadata": {},
   "source": [
    "### District Summary"
   ]
  },
  {
   "cell_type": "code",
   "execution_count": 6,
   "metadata": {},
   "outputs": [
    {
     "data": {
      "text/html": [
       "<div>\n",
       "<style scoped>\n",
       "    .dataframe tbody tr th:only-of-type {\n",
       "        vertical-align: middle;\n",
       "    }\n",
       "\n",
       "    .dataframe tbody tr th {\n",
       "        vertical-align: top;\n",
       "    }\n",
       "\n",
       "    .dataframe thead th {\n",
       "        text-align: right;\n",
       "    }\n",
       "</style>\n",
       "<table border=\"1\" class=\"dataframe\">\n",
       "  <thead>\n",
       "    <tr style=\"text-align: right;\">\n",
       "      <th></th>\n",
       "      <th>Student ID</th>\n",
       "      <th>student_name</th>\n",
       "      <th>gender</th>\n",
       "      <th>grade</th>\n",
       "      <th>school_name</th>\n",
       "      <th>reading_score</th>\n",
       "      <th>math_score</th>\n",
       "      <th>Unnamed: 7</th>\n",
       "      <th>Unnamed: 8</th>\n",
       "      <th>School ID</th>\n",
       "      <th>type</th>\n",
       "      <th>size</th>\n",
       "      <th>budget</th>\n",
       "    </tr>\n",
       "  </thead>\n",
       "  <tbody>\n",
       "    <tr>\n",
       "      <th>0</th>\n",
       "      <td>0</td>\n",
       "      <td>Paul Bradley</td>\n",
       "      <td>M</td>\n",
       "      <td>9th</td>\n",
       "      <td>Huang High School</td>\n",
       "      <td>66</td>\n",
       "      <td>79</td>\n",
       "      <td>NaN</td>\n",
       "      <td>81.877840</td>\n",
       "      <td>0</td>\n",
       "      <td>District</td>\n",
       "      <td>2917</td>\n",
       "      <td>1910635</td>\n",
       "    </tr>\n",
       "    <tr>\n",
       "      <th>1</th>\n",
       "      <td>1</td>\n",
       "      <td>Victor Smith</td>\n",
       "      <td>M</td>\n",
       "      <td>12th</td>\n",
       "      <td>Huang High School</td>\n",
       "      <td>94</td>\n",
       "      <td>61</td>\n",
       "      <td>NaN</td>\n",
       "      <td>78.985371</td>\n",
       "      <td>0</td>\n",
       "      <td>District</td>\n",
       "      <td>2917</td>\n",
       "      <td>1910635</td>\n",
       "    </tr>\n",
       "    <tr>\n",
       "      <th>2</th>\n",
       "      <td>2</td>\n",
       "      <td>Kevin Rodriguez</td>\n",
       "      <td>M</td>\n",
       "      <td>12th</td>\n",
       "      <td>Huang High School</td>\n",
       "      <td>90</td>\n",
       "      <td>60</td>\n",
       "      <td>NaN</td>\n",
       "      <td>NaN</td>\n",
       "      <td>0</td>\n",
       "      <td>District</td>\n",
       "      <td>2917</td>\n",
       "      <td>1910635</td>\n",
       "    </tr>\n",
       "    <tr>\n",
       "      <th>3</th>\n",
       "      <td>3</td>\n",
       "      <td>Richard Scott</td>\n",
       "      <td>M</td>\n",
       "      <td>12th</td>\n",
       "      <td>Huang High School</td>\n",
       "      <td>67</td>\n",
       "      <td>58</td>\n",
       "      <td>NaN</td>\n",
       "      <td>NaN</td>\n",
       "      <td>0</td>\n",
       "      <td>District</td>\n",
       "      <td>2917</td>\n",
       "      <td>1910635</td>\n",
       "    </tr>\n",
       "    <tr>\n",
       "      <th>4</th>\n",
       "      <td>4</td>\n",
       "      <td>Bonnie Ray</td>\n",
       "      <td>F</td>\n",
       "      <td>9th</td>\n",
       "      <td>Huang High School</td>\n",
       "      <td>97</td>\n",
       "      <td>84</td>\n",
       "      <td>NaN</td>\n",
       "      <td>NaN</td>\n",
       "      <td>0</td>\n",
       "      <td>District</td>\n",
       "      <td>2917</td>\n",
       "      <td>1910635</td>\n",
       "    </tr>\n",
       "  </tbody>\n",
       "</table>\n",
       "</div>"
      ],
      "text/plain": [
       "   Student ID     student_name gender grade        school_name  reading_score  \\\n",
       "0           0     Paul Bradley      M   9th  Huang High School             66   \n",
       "1           1     Victor Smith      M  12th  Huang High School             94   \n",
       "2           2  Kevin Rodriguez      M  12th  Huang High School             90   \n",
       "3           3    Richard Scott      M  12th  Huang High School             67   \n",
       "4           4       Bonnie Ray      F   9th  Huang High School             97   \n",
       "\n",
       "   math_score  Unnamed: 7  Unnamed: 8  School ID      type  size   budget  \n",
       "0          79         NaN   81.877840          0  District  2917  1910635  \n",
       "1          61         NaN   78.985371          0  District  2917  1910635  \n",
       "2          60         NaN         NaN          0  District  2917  1910635  \n",
       "3          58         NaN         NaN          0  District  2917  1910635  \n",
       "4          84         NaN         NaN          0  District  2917  1910635  "
      ]
     },
     "execution_count": 6,
     "metadata": {},
     "output_type": "execute_result"
    }
   ],
   "source": [
    "# Combine the data into a single dataset\n",
    "school_data_complete_df = pd.merge(student_data_df, school_data_df, how=\"left\", on=[\"school_name\", \"school_name\"])\n",
    "school_data_complete_df.head()"
   ]
  },
  {
   "cell_type": "code",
   "execution_count": 7,
   "metadata": {},
   "outputs": [],
   "source": [
    "# Calculate the Totals (Schools and Students)\n",
    "school_count = len(school_data_complete_df[\"school_name\"].unique())\n",
    "student_count = school_data_complete_df[\"Student ID\"].count()\n",
    "\n",
    "# Calculate the Total Budget\n",
    "total_budget = school_data_df[\"budget\"].sum()"
   ]
  },
  {
   "cell_type": "code",
   "execution_count": 8,
   "metadata": {},
   "outputs": [],
   "source": [
    "# Calculate the Average Scores using the \"clean_student_data\".\n",
    "average_reading_score = school_data_complete_df[\"reading_score\"].mean()\n",
    "average_math_score = school_data_complete_df[\"math_score\"].mean()"
   ]
  },
  {
   "cell_type": "code",
   "execution_count": 9,
   "metadata": {
    "scrolled": true
   },
   "outputs": [
    {
     "name": "stdout",
     "output_type": "stream",
     "text": [
      "38709\n"
     ]
    }
   ],
   "source": [
    "# Step 1. Get the number of students that are in ninth grade at Thomas High School.\n",
    "# These students have no grades. \n",
    "ninth_grade_students = student_data_df.loc[(student_data_df[\"school_name\"] == \"Thomas High School\") & (student_data_df[\"grade\"] == \"9th\")]\n",
    "\n",
    "# Get the total student count \n",
    "student_count = school_data_complete_df[\"Student ID\"].count()\n",
    "\n",
    "# Step 2. Subtract the number of students that are in ninth grade at \n",
    "# Thomas High School from the total student count to get the new total student count.\n",
    "new_student_count = (student_count) - (ninth_grade_students[\"Student ID\"].count())\n",
    "print(new_student_count)"
   ]
  },
  {
   "cell_type": "code",
   "execution_count": 10,
   "metadata": {},
   "outputs": [],
   "source": [
    "# Calculate the passing rates using the \"clean_student_data\".\n",
    "passing_math_count = school_data_complete_df[(school_data_complete_df[\"math_score\"] >= 70)].count()[\"student_name\"]\n",
    "passing_reading_count = school_data_complete_df[(school_data_complete_df[\"reading_score\"] >= 70)].count()[\"student_name\"]"
   ]
  },
  {
   "cell_type": "code",
   "execution_count": 11,
   "metadata": {},
   "outputs": [
    {
     "data": {
      "text/plain": [
       "(75.87382779198636, 86.82735281200755)"
      ]
     },
     "execution_count": 11,
     "metadata": {},
     "output_type": "execute_result"
    }
   ],
   "source": [
    "# Step 3. Calculate the passing percentages with the new total student count.\n",
    "passing_math_percentage = passing_math_count / new_student_count * 100\n",
    "\n",
    "passing_reading_percentage = passing_reading_count / new_student_count * 100\n",
    "passing_math_percentage, passing_reading_percentage"
   ]
  },
  {
   "cell_type": "code",
   "execution_count": 12,
   "metadata": {},
   "outputs": [
    {
     "data": {
      "text/plain": [
       "81.35059030199696"
      ]
     },
     "execution_count": 12,
     "metadata": {},
     "output_type": "execute_result"
    }
   ],
   "source": [
    "# Calculate the students who passed both reading and math.\n",
    "passing_math_reading = school_data_complete_df[(school_data_complete_df[\"math_score\"] >= 70)\n",
    "                                               & (school_data_complete_df[\"reading_score\"] >= 70)]\n",
    "\n",
    "# Calculate the number of students that passed both reading and math.\n",
    "overall_passing_math_reading_count = passing_math_reading[\"student_name\"].count()\n",
    "\n",
    "\n",
    "# Step 4.Calculate the overall passing percentage with new total student count.\n",
    "overall_passing_percentage = (passing_math_percentage + passing_reading_percentage)/2\n",
    "overall_passing_percentage\n"
   ]
  },
  {
   "cell_type": "code",
   "execution_count": 13,
   "metadata": {},
   "outputs": [
    {
     "data": {
      "text/html": [
       "<div>\n",
       "<style scoped>\n",
       "    .dataframe tbody tr th:only-of-type {\n",
       "        vertical-align: middle;\n",
       "    }\n",
       "\n",
       "    .dataframe tbody tr th {\n",
       "        vertical-align: top;\n",
       "    }\n",
       "\n",
       "    .dataframe thead th {\n",
       "        text-align: right;\n",
       "    }\n",
       "</style>\n",
       "<table border=\"1\" class=\"dataframe\">\n",
       "  <thead>\n",
       "    <tr style=\"text-align: right;\">\n",
       "      <th></th>\n",
       "      <th>Total Schools</th>\n",
       "      <th>Total Students</th>\n",
       "      <th>Total Budget</th>\n",
       "      <th>Average Math Score</th>\n",
       "      <th>Average Reading Score</th>\n",
       "      <th>% Passing Math</th>\n",
       "      <th>% Passing Reading</th>\n",
       "      <th>% Overall Passing</th>\n",
       "    </tr>\n",
       "  </thead>\n",
       "  <tbody>\n",
       "    <tr>\n",
       "      <th>0</th>\n",
       "      <td>15</td>\n",
       "      <td>39,170</td>\n",
       "      <td>$24,649,428.00</td>\n",
       "      <td>79.0</td>\n",
       "      <td>81.9</td>\n",
       "      <td>75.9</td>\n",
       "      <td>86.8</td>\n",
       "      <td>81.4</td>\n",
       "    </tr>\n",
       "  </tbody>\n",
       "</table>\n",
       "</div>"
      ],
      "text/plain": [
       "   Total Schools Total Students    Total Budget Average Math Score  \\\n",
       "0             15         39,170  $24,649,428.00               79.0   \n",
       "\n",
       "  Average Reading Score % Passing Math % Passing Reading % Overall Passing  \n",
       "0                  81.9           75.9              86.8              81.4  "
      ]
     },
     "execution_count": 13,
     "metadata": {},
     "output_type": "execute_result"
    }
   ],
   "source": [
    "# Create a DataFrame\n",
    "district_summary_df = pd.DataFrame(\n",
    "          [{\"Total Schools\": school_count, \n",
    "          \"Total Students\": student_count, \n",
    "          \"Total Budget\": total_budget,\n",
    "          \"Average Math Score\": average_math_score, \n",
    "          \"Average Reading Score\": average_reading_score,\n",
    "          \"% Passing Math\": passing_math_percentage,\n",
    "         \"% Passing Reading\": passing_reading_percentage,\n",
    "        \"% Overall Passing\": overall_passing_percentage}])\n",
    "\n",
    "\n",
    "# Format the \"Total Students\" to have the comma for a thousands separator.\n",
    "district_summary_df[\"Total Students\"] = district_summary_df[\"Total Students\"].map(\"{:,}\".format)\n",
    "# Format the \"Total Budget\" to have the comma for a thousands separator, a decimal separator and a \"$\".\n",
    "district_summary_df[\"Total Budget\"] = district_summary_df[\"Total Budget\"].map(\"${:,.2f}\".format)\n",
    "# Format the columns.\n",
    "district_summary_df[\"Average Math Score\"] = district_summary_df[\"Average Math Score\"].map(\"{:.1f}\".format)\n",
    "district_summary_df[\"Average Reading Score\"] = district_summary_df[\"Average Reading Score\"].map(\"{:.1f}\".format)\n",
    "district_summary_df[\"% Passing Math\"] = district_summary_df[\"% Passing Math\"].map(\"{:.1f}\".format)\n",
    "district_summary_df[\"% Passing Reading\"] = district_summary_df[\"% Passing Reading\"].map(\"{:.1f}\".format)\n",
    "district_summary_df[\"% Overall Passing\"] = district_summary_df[\"% Overall Passing\"].map(\"{:.1f}\".format)\n",
    "\n",
    "# Display the data frame\n",
    "district_summary_df"
   ]
  },
  {
   "cell_type": "markdown",
   "metadata": {},
   "source": [
    "##  School Summary"
   ]
  },
  {
   "cell_type": "code",
   "execution_count": 14,
   "metadata": {},
   "outputs": [],
   "source": [
    "# Determine the School Type\n",
    "per_school_types = school_data_df.set_index([\"school_name\"])[\"type\"]\n",
    "\n",
    "# Calculate the total student count.\n",
    "per_school_counts = school_data_complete_df[\"school_name\"].value_counts()\n",
    "\n",
    "# Calculate the total school budget and per capita spending\n",
    "per_school_budget = school_data_complete_df.groupby([\"school_name\"]).mean()[\"budget\"]\n",
    "# Calculate the per capita spending.\n",
    "per_school_capita = per_school_budget / per_school_counts\n",
    "\n",
    "# Calculate the average test scores.\n",
    "per_school_math = school_data_complete_df.groupby([\"school_name\"]).mean()[\"math_score\"]\n",
    "per_school_reading = school_data_complete_df.groupby([\"school_name\"]).mean()[\"reading_score\"]\n",
    "\n",
    "# Calculate the passing scores by creating a filtered DataFrame.\n",
    "per_school_passing_math = school_data_complete_df[(school_data_complete_df[\"math_score\"] >= 70)]\n",
    "per_school_passing_reading = school_data_complete_df[(school_data_complete_df[\"reading_score\"] >= 70)]\n",
    "\n",
    "# Calculate the number of students passing math and passing reading by school.\n",
    "per_school_passing_math = per_school_passing_math.groupby([\"school_name\"]).count()[\"student_name\"]\n",
    "per_school_passing_reading = per_school_passing_reading.groupby([\"school_name\"]).count()[\"student_name\"]\n",
    "\n",
    "# Calculate the percentage of passing math and reading scores per school.\n",
    "per_school_passing_math = per_school_passing_math / per_school_counts * 100\n",
    "per_school_passing_reading = per_school_passing_reading / per_school_counts * 100\n",
    "\n",
    "# Calculate the students who passed both reading and math.\n",
    "per_passing_math_reading = school_data_complete_df[(school_data_complete_df[\"reading_score\"] >= 70)\n",
    "                                               & (school_data_complete_df[\"math_score\"] >= 70)]\n",
    "# Calculate the number of students passing math and passing reading by school.\n",
    "per_passing_math_reading = per_passing_math_reading.groupby([\"school_name\"]).count()[\"student_name\"]\n",
    "\n",
    "# Calculate the percentage of passing math and reading scores per school.\n",
    "per_overall_passing_percentage = per_passing_math_reading / per_school_counts * 100"
   ]
  },
  {
   "cell_type": "code",
   "execution_count": 15,
   "metadata": {},
   "outputs": [],
   "source": [
    "# Create the DataFrame\n",
    "per_school_summary_df = pd.DataFrame({\n",
    "    \"School Type\": per_school_types,\n",
    "    \"Total Students\": per_school_counts,\n",
    "    \"Total School Budget\": per_school_budget,\n",
    "    \"Per Student Budget\": per_school_capita,\n",
    "    \"Average Math Score\": per_school_math,\n",
    "    \"Average Reading Score\": per_school_reading,\n",
    "    \"% Passing Math\": per_school_passing_math,\n",
    "    \"% Passing Reading\": per_school_passing_reading,\n",
    "    \"% Overall Passing\": per_overall_passing_percentage})\n",
    "\n",
    "# per_school_summary_df.head()"
   ]
  },
  {
   "cell_type": "code",
   "execution_count": 16,
   "metadata": {},
   "outputs": [
    {
     "data": {
      "text/html": [
       "<div>\n",
       "<style scoped>\n",
       "    .dataframe tbody tr th:only-of-type {\n",
       "        vertical-align: middle;\n",
       "    }\n",
       "\n",
       "    .dataframe tbody tr th {\n",
       "        vertical-align: top;\n",
       "    }\n",
       "\n",
       "    .dataframe thead th {\n",
       "        text-align: right;\n",
       "    }\n",
       "</style>\n",
       "<table border=\"1\" class=\"dataframe\">\n",
       "  <thead>\n",
       "    <tr style=\"text-align: right;\">\n",
       "      <th></th>\n",
       "      <th>School Type</th>\n",
       "      <th>Total Students</th>\n",
       "      <th>Total School Budget</th>\n",
       "      <th>Per Student Budget</th>\n",
       "      <th>Average Math Score</th>\n",
       "      <th>Average Reading Score</th>\n",
       "      <th>% Passing Math</th>\n",
       "      <th>% Passing Reading</th>\n",
       "      <th>% Overall Passing</th>\n",
       "    </tr>\n",
       "  </thead>\n",
       "  <tbody>\n",
       "    <tr>\n",
       "      <th>Rodriguez High School</th>\n",
       "      <td>District</td>\n",
       "      <td>3999</td>\n",
       "      <td>$2,547,363.00</td>\n",
       "      <td>$637.00</td>\n",
       "      <td>76.842711</td>\n",
       "      <td>80.744686</td>\n",
       "      <td>66.366592</td>\n",
       "      <td>80.220055</td>\n",
       "      <td>52.988247</td>\n",
       "    </tr>\n",
       "    <tr>\n",
       "      <th>Shelton High School</th>\n",
       "      <td>Charter</td>\n",
       "      <td>1761</td>\n",
       "      <td>$1,056,600.00</td>\n",
       "      <td>$600.00</td>\n",
       "      <td>83.359455</td>\n",
       "      <td>83.725724</td>\n",
       "      <td>93.867121</td>\n",
       "      <td>95.854628</td>\n",
       "      <td>89.892107</td>\n",
       "    </tr>\n",
       "    <tr>\n",
       "      <th>Thomas High School</th>\n",
       "      <td>Charter</td>\n",
       "      <td>1635</td>\n",
       "      <td>$1,043,130.00</td>\n",
       "      <td>$638.00</td>\n",
       "      <td>83.418349</td>\n",
       "      <td>83.848930</td>\n",
       "      <td>93.272171</td>\n",
       "      <td>97.308869</td>\n",
       "      <td>90.948012</td>\n",
       "    </tr>\n",
       "    <tr>\n",
       "      <th>Wilson High School</th>\n",
       "      <td>Charter</td>\n",
       "      <td>2283</td>\n",
       "      <td>$1,319,574.00</td>\n",
       "      <td>$578.00</td>\n",
       "      <td>83.274201</td>\n",
       "      <td>83.989488</td>\n",
       "      <td>93.867718</td>\n",
       "      <td>96.539641</td>\n",
       "      <td>90.582567</td>\n",
       "    </tr>\n",
       "    <tr>\n",
       "      <th>Wright High School</th>\n",
       "      <td>Charter</td>\n",
       "      <td>1800</td>\n",
       "      <td>$1,049,400.00</td>\n",
       "      <td>$583.00</td>\n",
       "      <td>83.682222</td>\n",
       "      <td>83.955000</td>\n",
       "      <td>93.333333</td>\n",
       "      <td>96.611111</td>\n",
       "      <td>90.333333</td>\n",
       "    </tr>\n",
       "  </tbody>\n",
       "</table>\n",
       "</div>"
      ],
      "text/plain": [
       "                      School Type  Total Students Total School Budget  \\\n",
       "Rodriguez High School    District            3999       $2,547,363.00   \n",
       "Shelton High School       Charter            1761       $1,056,600.00   \n",
       "Thomas High School        Charter            1635       $1,043,130.00   \n",
       "Wilson High School        Charter            2283       $1,319,574.00   \n",
       "Wright High School        Charter            1800       $1,049,400.00   \n",
       "\n",
       "                      Per Student Budget  Average Math Score  \\\n",
       "Rodriguez High School            $637.00           76.842711   \n",
       "Shelton High School              $600.00           83.359455   \n",
       "Thomas High School               $638.00           83.418349   \n",
       "Wilson High School               $578.00           83.274201   \n",
       "Wright High School               $583.00           83.682222   \n",
       "\n",
       "                       Average Reading Score  % Passing Math  \\\n",
       "Rodriguez High School              80.744686       66.366592   \n",
       "Shelton High School                83.725724       93.867121   \n",
       "Thomas High School                 83.848930       93.272171   \n",
       "Wilson High School                 83.989488       93.867718   \n",
       "Wright High School                 83.955000       93.333333   \n",
       "\n",
       "                       % Passing Reading  % Overall Passing  \n",
       "Rodriguez High School          80.220055          52.988247  \n",
       "Shelton High School            95.854628          89.892107  \n",
       "Thomas High School             97.308869          90.948012  \n",
       "Wilson High School             96.539641          90.582567  \n",
       "Wright High School             96.611111          90.333333  "
      ]
     },
     "execution_count": 16,
     "metadata": {},
     "output_type": "execute_result"
    }
   ],
   "source": [
    "# Format the Total School Budget and the Per Student Budget\n",
    "per_school_summary_df[\"Total School Budget\"] = per_school_summary_df[\"Total School Budget\"].map(\"${:,.2f}\".format)\n",
    "per_school_summary_df[\"Per Student Budget\"] = per_school_summary_df[\"Per Student Budget\"].map(\"${:,.2f}\".format)\n",
    "\n",
    "# Display the data frame\n",
    "per_school_summary_df.tail()"
   ]
  },
  {
   "cell_type": "code",
   "execution_count": 17,
   "metadata": {},
   "outputs": [
    {
     "data": {
      "text/html": [
       "<div>\n",
       "<style scoped>\n",
       "    .dataframe tbody tr th:only-of-type {\n",
       "        vertical-align: middle;\n",
       "    }\n",
       "\n",
       "    .dataframe tbody tr th {\n",
       "        vertical-align: top;\n",
       "    }\n",
       "\n",
       "    .dataframe thead th {\n",
       "        text-align: right;\n",
       "    }\n",
       "</style>\n",
       "<table border=\"1\" class=\"dataframe\">\n",
       "  <thead>\n",
       "    <tr style=\"text-align: right;\">\n",
       "      <th></th>\n",
       "      <th>School Type</th>\n",
       "      <th>Total Students</th>\n",
       "      <th>Total School Budget</th>\n",
       "      <th>Per Student Budget</th>\n",
       "      <th>Average Math Score</th>\n",
       "      <th>Average Reading Score</th>\n",
       "      <th>% Passing Math</th>\n",
       "      <th>% Passing Reading</th>\n",
       "      <th>% Overall Passing</th>\n",
       "    </tr>\n",
       "  </thead>\n",
       "  <tbody>\n",
       "    <tr>\n",
       "      <th>Thomas High School</th>\n",
       "      <td>Charter</td>\n",
       "      <td>1635</td>\n",
       "      <td>$1,043,130.00</td>\n",
       "      <td>$638.00</td>\n",
       "      <td>83.418349</td>\n",
       "      <td>83.84893</td>\n",
       "      <td>93.272171</td>\n",
       "      <td>97.308869</td>\n",
       "      <td>90.948012</td>\n",
       "    </tr>\n",
       "  </tbody>\n",
       "</table>\n",
       "</div>"
      ],
      "text/plain": [
       "                   School Type  Total Students Total School Budget  \\\n",
       "Thomas High School     Charter            1635       $1,043,130.00   \n",
       "\n",
       "                   Per Student Budget  Average Math Score  \\\n",
       "Thomas High School            $638.00           83.418349   \n",
       "\n",
       "                    Average Reading Score  % Passing Math  % Passing Reading  \\\n",
       "Thomas High School               83.84893       93.272171          97.308869   \n",
       "\n",
       "                    % Overall Passing  \n",
       "Thomas High School          90.948012  "
      ]
     },
     "execution_count": 17,
     "metadata": {},
     "output_type": "execute_result"
    }
   ],
   "source": [
    "# Step 5.  Get the number of 10th-12th graders from Thomas High School (THS).\n",
    "per_school_summary_df.loc[(per_school_summary_df.index == \"Thomas High School\") & (per_school_summary_df.index != \"ninth_grade_students\")]\n",
    "                          "
   ]
  },
  {
   "cell_type": "code",
   "execution_count": 18,
   "metadata": {},
   "outputs": [
    {
     "data": {
      "text/plain": [
       "Student ID       39170\n",
       "student_name     39170\n",
       "gender           39170\n",
       "grade            39170\n",
       "school_name      39170\n",
       "reading_score    39170\n",
       "math_score       39170\n",
       "Unnamed: 7           0\n",
       "Unnamed: 8           2\n",
       "dtype: int64"
      ]
     },
     "execution_count": 18,
     "metadata": {},
     "output_type": "execute_result"
    }
   ],
   "source": [
    "student_data_df.count()"
   ]
  },
  {
   "cell_type": "code",
   "execution_count": 19,
   "metadata": {},
   "outputs": [
    {
     "data": {
      "text/plain": [
       "1635"
      ]
     },
     "execution_count": 19,
     "metadata": {},
     "output_type": "execute_result"
    }
   ],
   "source": [
    "#dataframe with only Thomas High students from 10-12th grade\n",
    "ths_student_df = student_data_df.loc[(student_data_df['school_name'] == \"Thomas High School\") & (student_data_df[\"grade\"] != \"9th grade\")]\n",
    "ths_student_df[\"Student ID\"].count()"
   ]
  },
  {
   "cell_type": "code",
   "execution_count": 20,
   "metadata": {
    "scrolled": true
   },
   "outputs": [
    {
     "data": {
      "text/plain": [
       "Student ID       1525\n",
       "student_name     1525\n",
       "gender           1525\n",
       "grade            1525\n",
       "school_name      1525\n",
       "reading_score    1525\n",
       "math_score       1525\n",
       "Unnamed: 7          0\n",
       "Unnamed: 8          0\n",
       "dtype: int64"
      ]
     },
     "execution_count": 20,
     "metadata": {},
     "output_type": "execute_result"
    }
   ],
   "source": [
    "# Step 6. Get all the students passing math from THS\n",
    "ths_passing_math = ths_student_df.loc[student_data_df['math_score'] >= 70]\n",
    "ths_passing_math.count()"
   ]
  },
  {
   "cell_type": "code",
   "execution_count": 21,
   "metadata": {},
   "outputs": [
    {
     "data": {
      "text/plain": [
       "Student ID       1591\n",
       "student_name     1591\n",
       "gender           1591\n",
       "grade            1591\n",
       "school_name      1591\n",
       "reading_score    1591\n",
       "math_score       1591\n",
       "Unnamed: 7          0\n",
       "Unnamed: 8          0\n",
       "dtype: int64"
      ]
     },
     "execution_count": 21,
     "metadata": {},
     "output_type": "execute_result"
    }
   ],
   "source": [
    "# Step 7. Get all the students passing reading from THS\n",
    "ths_passing_reading = ths_student_df.loc[ths_student_df['reading_score'] >= 70]\n",
    "ths_passing_reading.count()"
   ]
  },
  {
   "cell_type": "code",
   "execution_count": 22,
   "metadata": {},
   "outputs": [
    {
     "data": {
      "text/plain": [
       "1635"
      ]
     },
     "execution_count": 22,
     "metadata": {},
     "output_type": "execute_result"
    }
   ],
   "source": [
    "ths_student_df[\"Student ID\"].count()"
   ]
  },
  {
   "cell_type": "code",
   "execution_count": 23,
   "metadata": {},
   "outputs": [
    {
     "data": {
      "text/plain": [
       "1487"
      ]
     },
     "execution_count": 23,
     "metadata": {},
     "output_type": "execute_result"
    }
   ],
   "source": [
    "# Step 8. Get all the students passing math and reading from THS\n",
    "ths_passing_math_reading = ths_student_df[(ths_student_df['math_score'] >= 70) & (ths_student_df['reading_score'] >= 70)]['Student ID'].count()\n",
    "ths_passing_math_reading"
   ]
  },
  {
   "cell_type": "code",
   "execution_count": 24,
   "metadata": {},
   "outputs": [
    {
     "data": {
      "text/plain": [
       "1525"
      ]
     },
     "execution_count": 24,
     "metadata": {},
     "output_type": "execute_result"
    }
   ],
   "source": [
    "len(ths_passing_math)"
   ]
  },
  {
   "cell_type": "code",
   "execution_count": 25,
   "metadata": {},
   "outputs": [
    {
     "data": {
      "text/plain": [
       "93.27217125382263"
      ]
     },
     "execution_count": 25,
     "metadata": {},
     "output_type": "execute_result"
    }
   ],
   "source": [
    "# Step 9. Calculate the percentage of 10th-12th grade students passing math from Thomas High School. \n",
    "#percentage = total 10-12 THS students / 10-12 THS passing math * 100\n",
    "ths_student_passing_math = len(ths_passing_math) / ths_student_df[\"Student ID\"].count() * 100\n",
    "ths_student_passing_math"
   ]
  },
  {
   "cell_type": "code",
   "execution_count": 26,
   "metadata": {},
   "outputs": [
    {
     "data": {
      "text/plain": [
       "97.30886850152906"
      ]
     },
     "execution_count": 26,
     "metadata": {},
     "output_type": "execute_result"
    }
   ],
   "source": [
    "# Step 10. Calculate the percentage of 10th-12th grade students passing reading from Thomas High School.\n",
    "ths_student_passing_reading = ths_passing_reading[\"Student ID\"].count() / ths_student_df[\"Student ID\"].count() * 100\n",
    "ths_student_passing_reading"
   ]
  },
  {
   "cell_type": "code",
   "execution_count": 27,
   "metadata": {},
   "outputs": [
    {
     "data": {
      "text/plain": [
       "90.94801223241589"
      ]
     },
     "execution_count": 27,
     "metadata": {},
     "output_type": "execute_result"
    }
   ],
   "source": [
    "# Step 11. Calculate the overall passing percentage of 10th-12th grade from Thomas High School. \n",
    "ths_student_passing_math_reading = ths_student_df[(ths_student_df['math_score'] >= 70) & (ths_student_df['reading_score'] >= 70)]['Student ID'].count() / ths_student_df[\"Student ID\"].count() *100\n",
    "ths_student_passing_math_reading\n"
   ]
  },
  {
   "cell_type": "code",
   "execution_count": 28,
   "metadata": {},
   "outputs": [],
   "source": [
    "# Step 12. Replace the passing math percent for Thomas High School in the per_school_summary_df. \n",
    "#ths_student_passing_math \"per_school_passing_math\"\n",
    "per_school_summary_df.loc[\"Thomas High School\", \"% Passing Math\"] = ths_student_passing_math"
   ]
  },
  {
   "cell_type": "code",
   "execution_count": 29,
   "metadata": {},
   "outputs": [],
   "source": [
    "# Step 13. Replace the passing reading percentage for Thomas High School in the per_school_summary_df.\n",
    "#ths_student_passing_reading\n",
    "per_school_summary_df.loc[\"Thomas High School\", \"% Passing Reading\"] = ths_student_passing_reading"
   ]
  },
  {
   "cell_type": "code",
   "execution_count": 30,
   "metadata": {},
   "outputs": [],
   "source": [
    "# Step 14. Replace the overall passing percentage for Thomas High School in the per_school_summary_df.\n",
    "#ths_student_passing_math_reading\n",
    "per_school_summary_df.loc[\"Thomas High School\", \"% Overall Passing\"] = ths_student_passing_math_reading"
   ]
  },
  {
   "cell_type": "code",
   "execution_count": 31,
   "metadata": {},
   "outputs": [
    {
     "data": {
      "text/html": [
       "<div>\n",
       "<style scoped>\n",
       "    .dataframe tbody tr th:only-of-type {\n",
       "        vertical-align: middle;\n",
       "    }\n",
       "\n",
       "    .dataframe tbody tr th {\n",
       "        vertical-align: top;\n",
       "    }\n",
       "\n",
       "    .dataframe thead th {\n",
       "        text-align: right;\n",
       "    }\n",
       "</style>\n",
       "<table border=\"1\" class=\"dataframe\">\n",
       "  <thead>\n",
       "    <tr style=\"text-align: right;\">\n",
       "      <th></th>\n",
       "      <th>School Type</th>\n",
       "      <th>Total Students</th>\n",
       "      <th>Total School Budget</th>\n",
       "      <th>Per Student Budget</th>\n",
       "      <th>Average Math Score</th>\n",
       "      <th>Average Reading Score</th>\n",
       "      <th>% Passing Math</th>\n",
       "      <th>% Passing Reading</th>\n",
       "      <th>% Overall Passing</th>\n",
       "    </tr>\n",
       "  </thead>\n",
       "  <tbody>\n",
       "    <tr>\n",
       "      <th>Rodriguez High School</th>\n",
       "      <td>District</td>\n",
       "      <td>3999</td>\n",
       "      <td>2547363.0</td>\n",
       "      <td>637.0</td>\n",
       "      <td>76.842711</td>\n",
       "      <td>80.744686</td>\n",
       "      <td>66.366592</td>\n",
       "      <td>80.220055</td>\n",
       "      <td>52.988247</td>\n",
       "    </tr>\n",
       "    <tr>\n",
       "      <th>Shelton High School</th>\n",
       "      <td>Charter</td>\n",
       "      <td>1761</td>\n",
       "      <td>1056600.0</td>\n",
       "      <td>600.0</td>\n",
       "      <td>83.359455</td>\n",
       "      <td>83.725724</td>\n",
       "      <td>93.867121</td>\n",
       "      <td>95.854628</td>\n",
       "      <td>89.892107</td>\n",
       "    </tr>\n",
       "    <tr>\n",
       "      <th>Thomas High School</th>\n",
       "      <td>Charter</td>\n",
       "      <td>1635</td>\n",
       "      <td>1043130.0</td>\n",
       "      <td>638.0</td>\n",
       "      <td>83.418349</td>\n",
       "      <td>83.848930</td>\n",
       "      <td>93.272171</td>\n",
       "      <td>97.308869</td>\n",
       "      <td>90.948012</td>\n",
       "    </tr>\n",
       "    <tr>\n",
       "      <th>Wilson High School</th>\n",
       "      <td>Charter</td>\n",
       "      <td>2283</td>\n",
       "      <td>1319574.0</td>\n",
       "      <td>578.0</td>\n",
       "      <td>83.274201</td>\n",
       "      <td>83.989488</td>\n",
       "      <td>93.867718</td>\n",
       "      <td>96.539641</td>\n",
       "      <td>90.582567</td>\n",
       "    </tr>\n",
       "    <tr>\n",
       "      <th>Wright High School</th>\n",
       "      <td>Charter</td>\n",
       "      <td>1800</td>\n",
       "      <td>1049400.0</td>\n",
       "      <td>583.0</td>\n",
       "      <td>83.682222</td>\n",
       "      <td>83.955000</td>\n",
       "      <td>93.333333</td>\n",
       "      <td>96.611111</td>\n",
       "      <td>90.333333</td>\n",
       "    </tr>\n",
       "  </tbody>\n",
       "</table>\n",
       "</div>"
      ],
      "text/plain": [
       "                      School Type  Total Students  Total School Budget  \\\n",
       "Rodriguez High School    District            3999            2547363.0   \n",
       "Shelton High School       Charter            1761            1056600.0   \n",
       "Thomas High School        Charter            1635            1043130.0   \n",
       "Wilson High School        Charter            2283            1319574.0   \n",
       "Wright High School        Charter            1800            1049400.0   \n",
       "\n",
       "                       Per Student Budget  Average Math Score  \\\n",
       "Rodriguez High School               637.0           76.842711   \n",
       "Shelton High School                 600.0           83.359455   \n",
       "Thomas High School                  638.0           83.418349   \n",
       "Wilson High School                  578.0           83.274201   \n",
       "Wright High School                  583.0           83.682222   \n",
       "\n",
       "                       Average Reading Score  % Passing Math  \\\n",
       "Rodriguez High School              80.744686       66.366592   \n",
       "Shelton High School                83.725724       93.867121   \n",
       "Thomas High School                 83.848930       93.272171   \n",
       "Wilson High School                 83.989488       93.867718   \n",
       "Wright High School                 83.955000       93.333333   \n",
       "\n",
       "                       % Passing Reading  % Overall Passing  \n",
       "Rodriguez High School          80.220055          52.988247  \n",
       "Shelton High School            95.854628          89.892107  \n",
       "Thomas High School             97.308869          90.948012  \n",
       "Wilson High School             96.539641          90.582567  \n",
       "Wright High School             96.611111          90.333333  "
      ]
     },
     "execution_count": 31,
     "metadata": {},
     "output_type": "execute_result"
    }
   ],
   "source": [
    "\n",
    "per_school_summary_df = pd.DataFrame({\n",
    "    \"School Type\": per_school_types,\n",
    "    \"Total Students\": per_school_counts,\n",
    "    \"Total School Budget\": per_school_budget,\n",
    "    \"Per Student Budget\": per_school_capita,\n",
    "    \"Average Math Score\": per_school_math,\n",
    "    \"Average Reading Score\": per_school_reading,\n",
    "    \"% Passing Math\": per_school_passing_math,\n",
    "    \"% Passing Reading\": per_school_passing_reading,\n",
    "    \"% Overall Passing\": per_overall_passing_percentage})\n",
    "\n",
    "per_school_summary_df.tail()"
   ]
  },
  {
   "cell_type": "markdown",
   "metadata": {},
   "source": [
    "## High and Low Performing Schools "
   ]
  },
  {
   "cell_type": "code",
   "execution_count": 32,
   "metadata": {
    "scrolled": true
   },
   "outputs": [
    {
     "data": {
      "text/html": [
       "<style  type=\"text/css\" >\n",
       "</style><table id=\"T_0817a0ea_79f3_11eb_b260_843835430ef4\" ><thead>    <tr>        <th class=\"blank level0\" ></th>        <th class=\"col_heading level0 col0\" >School Type</th>        <th class=\"col_heading level0 col1\" >Total Students</th>        <th class=\"col_heading level0 col2\" >Total School Budget</th>        <th class=\"col_heading level0 col3\" >Per Student Budget</th>        <th class=\"col_heading level0 col4\" >Average Math Score</th>        <th class=\"col_heading level0 col5\" >Average Reading Score</th>        <th class=\"col_heading level0 col6\" >% Passing Math</th>        <th class=\"col_heading level0 col7\" >% Passing Reading</th>        <th class=\"col_heading level0 col8\" >% Overall Passing</th>    </tr></thead><tbody>\n",
       "                <tr>\n",
       "                        <th id=\"T_0817a0ea_79f3_11eb_b260_843835430ef4level0_row0\" class=\"row_heading level0 row0\" >Cabrera High School</th>\n",
       "                        <td id=\"T_0817a0ea_79f3_11eb_b260_843835430ef4row0_col0\" class=\"data row0 col0\" >Charter</td>\n",
       "                        <td id=\"T_0817a0ea_79f3_11eb_b260_843835430ef4row0_col1\" class=\"data row0 col1\" >1,858</td>\n",
       "                        <td id=\"T_0817a0ea_79f3_11eb_b260_843835430ef4row0_col2\" class=\"data row0 col2\" >$1,081,356.0</td>\n",
       "                        <td id=\"T_0817a0ea_79f3_11eb_b260_843835430ef4row0_col3\" class=\"data row0 col3\" >$582</td>\n",
       "                        <td id=\"T_0817a0ea_79f3_11eb_b260_843835430ef4row0_col4\" class=\"data row0 col4\" >83.061895</td>\n",
       "                        <td id=\"T_0817a0ea_79f3_11eb_b260_843835430ef4row0_col5\" class=\"data row0 col5\" >83.975780</td>\n",
       "                        <td id=\"T_0817a0ea_79f3_11eb_b260_843835430ef4row0_col6\" class=\"data row0 col6\" >94.1%</td>\n",
       "                        <td id=\"T_0817a0ea_79f3_11eb_b260_843835430ef4row0_col7\" class=\"data row0 col7\" >97.0%</td>\n",
       "                        <td id=\"T_0817a0ea_79f3_11eb_b260_843835430ef4row0_col8\" class=\"data row0 col8\" >91.3%</td>\n",
       "            </tr>\n",
       "            <tr>\n",
       "                        <th id=\"T_0817a0ea_79f3_11eb_b260_843835430ef4level0_row1\" class=\"row_heading level0 row1\" >Thomas High School</th>\n",
       "                        <td id=\"T_0817a0ea_79f3_11eb_b260_843835430ef4row1_col0\" class=\"data row1 col0\" >Charter</td>\n",
       "                        <td id=\"T_0817a0ea_79f3_11eb_b260_843835430ef4row1_col1\" class=\"data row1 col1\" >1,635</td>\n",
       "                        <td id=\"T_0817a0ea_79f3_11eb_b260_843835430ef4row1_col2\" class=\"data row1 col2\" >$1,043,130.0</td>\n",
       "                        <td id=\"T_0817a0ea_79f3_11eb_b260_843835430ef4row1_col3\" class=\"data row1 col3\" >$638</td>\n",
       "                        <td id=\"T_0817a0ea_79f3_11eb_b260_843835430ef4row1_col4\" class=\"data row1 col4\" >83.418349</td>\n",
       "                        <td id=\"T_0817a0ea_79f3_11eb_b260_843835430ef4row1_col5\" class=\"data row1 col5\" >83.848930</td>\n",
       "                        <td id=\"T_0817a0ea_79f3_11eb_b260_843835430ef4row1_col6\" class=\"data row1 col6\" >93.3%</td>\n",
       "                        <td id=\"T_0817a0ea_79f3_11eb_b260_843835430ef4row1_col7\" class=\"data row1 col7\" >97.3%</td>\n",
       "                        <td id=\"T_0817a0ea_79f3_11eb_b260_843835430ef4row1_col8\" class=\"data row1 col8\" >90.9%</td>\n",
       "            </tr>\n",
       "            <tr>\n",
       "                        <th id=\"T_0817a0ea_79f3_11eb_b260_843835430ef4level0_row2\" class=\"row_heading level0 row2\" >Griffin High School</th>\n",
       "                        <td id=\"T_0817a0ea_79f3_11eb_b260_843835430ef4row2_col0\" class=\"data row2 col0\" >Charter</td>\n",
       "                        <td id=\"T_0817a0ea_79f3_11eb_b260_843835430ef4row2_col1\" class=\"data row2 col1\" >1,468</td>\n",
       "                        <td id=\"T_0817a0ea_79f3_11eb_b260_843835430ef4row2_col2\" class=\"data row2 col2\" >$917,500.0</td>\n",
       "                        <td id=\"T_0817a0ea_79f3_11eb_b260_843835430ef4row2_col3\" class=\"data row2 col3\" >$625</td>\n",
       "                        <td id=\"T_0817a0ea_79f3_11eb_b260_843835430ef4row2_col4\" class=\"data row2 col4\" >83.351499</td>\n",
       "                        <td id=\"T_0817a0ea_79f3_11eb_b260_843835430ef4row2_col5\" class=\"data row2 col5\" >83.816757</td>\n",
       "                        <td id=\"T_0817a0ea_79f3_11eb_b260_843835430ef4row2_col6\" class=\"data row2 col6\" >93.4%</td>\n",
       "                        <td id=\"T_0817a0ea_79f3_11eb_b260_843835430ef4row2_col7\" class=\"data row2 col7\" >97.1%</td>\n",
       "                        <td id=\"T_0817a0ea_79f3_11eb_b260_843835430ef4row2_col8\" class=\"data row2 col8\" >90.6%</td>\n",
       "            </tr>\n",
       "            <tr>\n",
       "                        <th id=\"T_0817a0ea_79f3_11eb_b260_843835430ef4level0_row3\" class=\"row_heading level0 row3\" >Wilson High School</th>\n",
       "                        <td id=\"T_0817a0ea_79f3_11eb_b260_843835430ef4row3_col0\" class=\"data row3 col0\" >Charter</td>\n",
       "                        <td id=\"T_0817a0ea_79f3_11eb_b260_843835430ef4row3_col1\" class=\"data row3 col1\" >2,283</td>\n",
       "                        <td id=\"T_0817a0ea_79f3_11eb_b260_843835430ef4row3_col2\" class=\"data row3 col2\" >$1,319,574.0</td>\n",
       "                        <td id=\"T_0817a0ea_79f3_11eb_b260_843835430ef4row3_col3\" class=\"data row3 col3\" >$578</td>\n",
       "                        <td id=\"T_0817a0ea_79f3_11eb_b260_843835430ef4row3_col4\" class=\"data row3 col4\" >83.274201</td>\n",
       "                        <td id=\"T_0817a0ea_79f3_11eb_b260_843835430ef4row3_col5\" class=\"data row3 col5\" >83.989488</td>\n",
       "                        <td id=\"T_0817a0ea_79f3_11eb_b260_843835430ef4row3_col6\" class=\"data row3 col6\" >93.9%</td>\n",
       "                        <td id=\"T_0817a0ea_79f3_11eb_b260_843835430ef4row3_col7\" class=\"data row3 col7\" >96.5%</td>\n",
       "                        <td id=\"T_0817a0ea_79f3_11eb_b260_843835430ef4row3_col8\" class=\"data row3 col8\" >90.6%</td>\n",
       "            </tr>\n",
       "            <tr>\n",
       "                        <th id=\"T_0817a0ea_79f3_11eb_b260_843835430ef4level0_row4\" class=\"row_heading level0 row4\" >Pena High School</th>\n",
       "                        <td id=\"T_0817a0ea_79f3_11eb_b260_843835430ef4row4_col0\" class=\"data row4 col0\" >Charter</td>\n",
       "                        <td id=\"T_0817a0ea_79f3_11eb_b260_843835430ef4row4_col1\" class=\"data row4 col1\" >962</td>\n",
       "                        <td id=\"T_0817a0ea_79f3_11eb_b260_843835430ef4row4_col2\" class=\"data row4 col2\" >$585,858.0</td>\n",
       "                        <td id=\"T_0817a0ea_79f3_11eb_b260_843835430ef4row4_col3\" class=\"data row4 col3\" >$609</td>\n",
       "                        <td id=\"T_0817a0ea_79f3_11eb_b260_843835430ef4row4_col4\" class=\"data row4 col4\" >83.839917</td>\n",
       "                        <td id=\"T_0817a0ea_79f3_11eb_b260_843835430ef4row4_col5\" class=\"data row4 col5\" >84.044699</td>\n",
       "                        <td id=\"T_0817a0ea_79f3_11eb_b260_843835430ef4row4_col6\" class=\"data row4 col6\" >94.6%</td>\n",
       "                        <td id=\"T_0817a0ea_79f3_11eb_b260_843835430ef4row4_col7\" class=\"data row4 col7\" >95.9%</td>\n",
       "                        <td id=\"T_0817a0ea_79f3_11eb_b260_843835430ef4row4_col8\" class=\"data row4 col8\" >90.5%</td>\n",
       "            </tr>\n",
       "    </tbody></table>"
      ],
      "text/plain": [
       "<pandas.io.formats.style.Styler at 0x7f8dade1b350>"
      ]
     },
     "execution_count": 32,
     "metadata": {},
     "output_type": "execute_result"
    }
   ],
   "source": [
    "# Sort and show top five schools.\n",
    "top_5 = per_school_summary_df.sort_values(\"% Overall Passing\", ascending = False)\n",
    "top_5.head().style.format({\"Total Students\": \"{:,}\", \n",
    "                           \"Total School Budget\": \"${:,}\", \n",
    "                           \"Per Student Budget\": \"${:.0f}\", \n",
    "                           \"% Passing Math\": \"{:.1f}%\", \n",
    "                           \"% Passing Reading\": \"{:.1f}%\", \n",
    "                           \"% Overall Passing\": \"{:.1f}%\"})"
   ]
  },
  {
   "cell_type": "code",
   "execution_count": 33,
   "metadata": {},
   "outputs": [
    {
     "data": {
      "text/html": [
       "<style  type=\"text/css\" >\n",
       "</style><table id=\"T_081a732e_79f3_11eb_b260_843835430ef4\" ><thead>    <tr>        <th class=\"blank level0\" ></th>        <th class=\"col_heading level0 col0\" >School Type</th>        <th class=\"col_heading level0 col1\" >Total Students</th>        <th class=\"col_heading level0 col2\" >Total School Budget</th>        <th class=\"col_heading level0 col3\" >Per Student Budget</th>        <th class=\"col_heading level0 col4\" >Average Math Score</th>        <th class=\"col_heading level0 col5\" >Average Reading Score</th>        <th class=\"col_heading level0 col6\" >% Passing Math</th>        <th class=\"col_heading level0 col7\" >% Passing Reading</th>        <th class=\"col_heading level0 col8\" >% Overall Passing</th>    </tr></thead><tbody>\n",
       "                <tr>\n",
       "                        <th id=\"T_081a732e_79f3_11eb_b260_843835430ef4level0_row0\" class=\"row_heading level0 row0\" >Rodriguez High School</th>\n",
       "                        <td id=\"T_081a732e_79f3_11eb_b260_843835430ef4row0_col0\" class=\"data row0 col0\" >District</td>\n",
       "                        <td id=\"T_081a732e_79f3_11eb_b260_843835430ef4row0_col1\" class=\"data row0 col1\" >3,999</td>\n",
       "                        <td id=\"T_081a732e_79f3_11eb_b260_843835430ef4row0_col2\" class=\"data row0 col2\" >$2,547,363.0</td>\n",
       "                        <td id=\"T_081a732e_79f3_11eb_b260_843835430ef4row0_col3\" class=\"data row0 col3\" >$637</td>\n",
       "                        <td id=\"T_081a732e_79f3_11eb_b260_843835430ef4row0_col4\" class=\"data row0 col4\" >76.842711</td>\n",
       "                        <td id=\"T_081a732e_79f3_11eb_b260_843835430ef4row0_col5\" class=\"data row0 col5\" >80.744686</td>\n",
       "                        <td id=\"T_081a732e_79f3_11eb_b260_843835430ef4row0_col6\" class=\"data row0 col6\" >66.4%</td>\n",
       "                        <td id=\"T_081a732e_79f3_11eb_b260_843835430ef4row0_col7\" class=\"data row0 col7\" >80.2%</td>\n",
       "                        <td id=\"T_081a732e_79f3_11eb_b260_843835430ef4row0_col8\" class=\"data row0 col8\" >53.0%</td>\n",
       "            </tr>\n",
       "            <tr>\n",
       "                        <th id=\"T_081a732e_79f3_11eb_b260_843835430ef4level0_row1\" class=\"row_heading level0 row1\" >Figueroa High School</th>\n",
       "                        <td id=\"T_081a732e_79f3_11eb_b260_843835430ef4row1_col0\" class=\"data row1 col0\" >District</td>\n",
       "                        <td id=\"T_081a732e_79f3_11eb_b260_843835430ef4row1_col1\" class=\"data row1 col1\" >2,949</td>\n",
       "                        <td id=\"T_081a732e_79f3_11eb_b260_843835430ef4row1_col2\" class=\"data row1 col2\" >$1,884,411.0</td>\n",
       "                        <td id=\"T_081a732e_79f3_11eb_b260_843835430ef4row1_col3\" class=\"data row1 col3\" >$639</td>\n",
       "                        <td id=\"T_081a732e_79f3_11eb_b260_843835430ef4row1_col4\" class=\"data row1 col4\" >76.711767</td>\n",
       "                        <td id=\"T_081a732e_79f3_11eb_b260_843835430ef4row1_col5\" class=\"data row1 col5\" >81.158020</td>\n",
       "                        <td id=\"T_081a732e_79f3_11eb_b260_843835430ef4row1_col6\" class=\"data row1 col6\" >66.0%</td>\n",
       "                        <td id=\"T_081a732e_79f3_11eb_b260_843835430ef4row1_col7\" class=\"data row1 col7\" >80.7%</td>\n",
       "                        <td id=\"T_081a732e_79f3_11eb_b260_843835430ef4row1_col8\" class=\"data row1 col8\" >53.2%</td>\n",
       "            </tr>\n",
       "            <tr>\n",
       "                        <th id=\"T_081a732e_79f3_11eb_b260_843835430ef4level0_row2\" class=\"row_heading level0 row2\" >Huang High School</th>\n",
       "                        <td id=\"T_081a732e_79f3_11eb_b260_843835430ef4row2_col0\" class=\"data row2 col0\" >District</td>\n",
       "                        <td id=\"T_081a732e_79f3_11eb_b260_843835430ef4row2_col1\" class=\"data row2 col1\" >2,917</td>\n",
       "                        <td id=\"T_081a732e_79f3_11eb_b260_843835430ef4row2_col2\" class=\"data row2 col2\" >$1,910,635.0</td>\n",
       "                        <td id=\"T_081a732e_79f3_11eb_b260_843835430ef4row2_col3\" class=\"data row2 col3\" >$655</td>\n",
       "                        <td id=\"T_081a732e_79f3_11eb_b260_843835430ef4row2_col4\" class=\"data row2 col4\" >76.629414</td>\n",
       "                        <td id=\"T_081a732e_79f3_11eb_b260_843835430ef4row2_col5\" class=\"data row2 col5\" >81.182722</td>\n",
       "                        <td id=\"T_081a732e_79f3_11eb_b260_843835430ef4row2_col6\" class=\"data row2 col6\" >65.7%</td>\n",
       "                        <td id=\"T_081a732e_79f3_11eb_b260_843835430ef4row2_col7\" class=\"data row2 col7\" >81.3%</td>\n",
       "                        <td id=\"T_081a732e_79f3_11eb_b260_843835430ef4row2_col8\" class=\"data row2 col8\" >53.5%</td>\n",
       "            </tr>\n",
       "            <tr>\n",
       "                        <th id=\"T_081a732e_79f3_11eb_b260_843835430ef4level0_row3\" class=\"row_heading level0 row3\" >Hernandez High School</th>\n",
       "                        <td id=\"T_081a732e_79f3_11eb_b260_843835430ef4row3_col0\" class=\"data row3 col0\" >District</td>\n",
       "                        <td id=\"T_081a732e_79f3_11eb_b260_843835430ef4row3_col1\" class=\"data row3 col1\" >4,635</td>\n",
       "                        <td id=\"T_081a732e_79f3_11eb_b260_843835430ef4row3_col2\" class=\"data row3 col2\" >$3,022,020.0</td>\n",
       "                        <td id=\"T_081a732e_79f3_11eb_b260_843835430ef4row3_col3\" class=\"data row3 col3\" >$652</td>\n",
       "                        <td id=\"T_081a732e_79f3_11eb_b260_843835430ef4row3_col4\" class=\"data row3 col4\" >77.289752</td>\n",
       "                        <td id=\"T_081a732e_79f3_11eb_b260_843835430ef4row3_col5\" class=\"data row3 col5\" >80.934412</td>\n",
       "                        <td id=\"T_081a732e_79f3_11eb_b260_843835430ef4row3_col6\" class=\"data row3 col6\" >66.8%</td>\n",
       "                        <td id=\"T_081a732e_79f3_11eb_b260_843835430ef4row3_col7\" class=\"data row3 col7\" >80.9%</td>\n",
       "                        <td id=\"T_081a732e_79f3_11eb_b260_843835430ef4row3_col8\" class=\"data row3 col8\" >53.5%</td>\n",
       "            </tr>\n",
       "            <tr>\n",
       "                        <th id=\"T_081a732e_79f3_11eb_b260_843835430ef4level0_row4\" class=\"row_heading level0 row4\" >Johnson High School</th>\n",
       "                        <td id=\"T_081a732e_79f3_11eb_b260_843835430ef4row4_col0\" class=\"data row4 col0\" >District</td>\n",
       "                        <td id=\"T_081a732e_79f3_11eb_b260_843835430ef4row4_col1\" class=\"data row4 col1\" >4,761</td>\n",
       "                        <td id=\"T_081a732e_79f3_11eb_b260_843835430ef4row4_col2\" class=\"data row4 col2\" >$3,094,650.0</td>\n",
       "                        <td id=\"T_081a732e_79f3_11eb_b260_843835430ef4row4_col3\" class=\"data row4 col3\" >$650</td>\n",
       "                        <td id=\"T_081a732e_79f3_11eb_b260_843835430ef4row4_col4\" class=\"data row4 col4\" >77.072464</td>\n",
       "                        <td id=\"T_081a732e_79f3_11eb_b260_843835430ef4row4_col5\" class=\"data row4 col5\" >80.966394</td>\n",
       "                        <td id=\"T_081a732e_79f3_11eb_b260_843835430ef4row4_col6\" class=\"data row4 col6\" >66.1%</td>\n",
       "                        <td id=\"T_081a732e_79f3_11eb_b260_843835430ef4row4_col7\" class=\"data row4 col7\" >81.2%</td>\n",
       "                        <td id=\"T_081a732e_79f3_11eb_b260_843835430ef4row4_col8\" class=\"data row4 col8\" >53.5%</td>\n",
       "            </tr>\n",
       "    </tbody></table>"
      ],
      "text/plain": [
       "<pandas.io.formats.style.Styler at 0x7f8daed59d10>"
      ]
     },
     "execution_count": 33,
     "metadata": {},
     "output_type": "execute_result"
    }
   ],
   "source": [
    "# Sort and show top five schools.\n",
    "bottom_5 = top_5.tail()\n",
    "bottom_5 = bottom_5.sort_values(\"% Overall Passing\")\n",
    "bottom_5.style.format({\"Total Students\": \"{:,}\", \n",
    "                       \"Total School Budget\": \"${:,}\", \n",
    "                       \"Per Student Budget\": \"${:.0f}\", \n",
    "                       \"% Passing Math\": \"{:.1f}%\", \n",
    "                       \"% Passing Reading\": \"{:.1f}%\", \n",
    "                       \"% Overall Passing\": \"{:.1f}%\"})"
   ]
  },
  {
   "cell_type": "markdown",
   "metadata": {
    "collapsed": true
   },
   "source": [
    "## Math and Reading Scores by Grade"
   ]
  },
  {
   "cell_type": "code",
   "execution_count": 34,
   "metadata": {},
   "outputs": [
    {
     "data": {
      "text/html": [
       "<style  type=\"text/css\" >\n",
       "</style><table id=\"T_082751ac_79f3_11eb_b260_843835430ef4\" ><thead>    <tr>        <th class=\"blank level0\" ></th>        <th class=\"col_heading level0 col0\" >9th</th>        <th class=\"col_heading level0 col1\" >10th</th>        <th class=\"col_heading level0 col2\" >11th</th>        <th class=\"col_heading level0 col3\" >12th</th>    </tr>    <tr>        <th class=\"index_name level0\" >school_name</th>        <th class=\"blank\" ></th>        <th class=\"blank\" ></th>        <th class=\"blank\" ></th>        <th class=\"blank\" ></th>    </tr></thead><tbody>\n",
       "                <tr>\n",
       "                        <th id=\"T_082751ac_79f3_11eb_b260_843835430ef4level0_row0\" class=\"row_heading level0 row0\" >Bailey High School</th>\n",
       "                        <td id=\"T_082751ac_79f3_11eb_b260_843835430ef4row0_col0\" class=\"data row0 col0\" >77.1</td>\n",
       "                        <td id=\"T_082751ac_79f3_11eb_b260_843835430ef4row0_col1\" class=\"data row0 col1\" >77.0</td>\n",
       "                        <td id=\"T_082751ac_79f3_11eb_b260_843835430ef4row0_col2\" class=\"data row0 col2\" >77.5</td>\n",
       "                        <td id=\"T_082751ac_79f3_11eb_b260_843835430ef4row0_col3\" class=\"data row0 col3\" >76.5</td>\n",
       "            </tr>\n",
       "            <tr>\n",
       "                        <th id=\"T_082751ac_79f3_11eb_b260_843835430ef4level0_row1\" class=\"row_heading level0 row1\" >Cabrera High School</th>\n",
       "                        <td id=\"T_082751ac_79f3_11eb_b260_843835430ef4row1_col0\" class=\"data row1 col0\" >83.1</td>\n",
       "                        <td id=\"T_082751ac_79f3_11eb_b260_843835430ef4row1_col1\" class=\"data row1 col1\" >83.2</td>\n",
       "                        <td id=\"T_082751ac_79f3_11eb_b260_843835430ef4row1_col2\" class=\"data row1 col2\" >82.8</td>\n",
       "                        <td id=\"T_082751ac_79f3_11eb_b260_843835430ef4row1_col3\" class=\"data row1 col3\" >83.3</td>\n",
       "            </tr>\n",
       "            <tr>\n",
       "                        <th id=\"T_082751ac_79f3_11eb_b260_843835430ef4level0_row2\" class=\"row_heading level0 row2\" >Figueroa High School</th>\n",
       "                        <td id=\"T_082751ac_79f3_11eb_b260_843835430ef4row2_col0\" class=\"data row2 col0\" >76.4</td>\n",
       "                        <td id=\"T_082751ac_79f3_11eb_b260_843835430ef4row2_col1\" class=\"data row2 col1\" >76.5</td>\n",
       "                        <td id=\"T_082751ac_79f3_11eb_b260_843835430ef4row2_col2\" class=\"data row2 col2\" >76.9</td>\n",
       "                        <td id=\"T_082751ac_79f3_11eb_b260_843835430ef4row2_col3\" class=\"data row2 col3\" >77.2</td>\n",
       "            </tr>\n",
       "            <tr>\n",
       "                        <th id=\"T_082751ac_79f3_11eb_b260_843835430ef4level0_row3\" class=\"row_heading level0 row3\" >Ford High School</th>\n",
       "                        <td id=\"T_082751ac_79f3_11eb_b260_843835430ef4row3_col0\" class=\"data row3 col0\" >77.4</td>\n",
       "                        <td id=\"T_082751ac_79f3_11eb_b260_843835430ef4row3_col1\" class=\"data row3 col1\" >77.7</td>\n",
       "                        <td id=\"T_082751ac_79f3_11eb_b260_843835430ef4row3_col2\" class=\"data row3 col2\" >76.9</td>\n",
       "                        <td id=\"T_082751ac_79f3_11eb_b260_843835430ef4row3_col3\" class=\"data row3 col3\" >76.2</td>\n",
       "            </tr>\n",
       "            <tr>\n",
       "                        <th id=\"T_082751ac_79f3_11eb_b260_843835430ef4level0_row4\" class=\"row_heading level0 row4\" >Griffin High School</th>\n",
       "                        <td id=\"T_082751ac_79f3_11eb_b260_843835430ef4row4_col0\" class=\"data row4 col0\" >82.0</td>\n",
       "                        <td id=\"T_082751ac_79f3_11eb_b260_843835430ef4row4_col1\" class=\"data row4 col1\" >84.2</td>\n",
       "                        <td id=\"T_082751ac_79f3_11eb_b260_843835430ef4row4_col2\" class=\"data row4 col2\" >83.8</td>\n",
       "                        <td id=\"T_082751ac_79f3_11eb_b260_843835430ef4row4_col3\" class=\"data row4 col3\" >83.4</td>\n",
       "            </tr>\n",
       "            <tr>\n",
       "                        <th id=\"T_082751ac_79f3_11eb_b260_843835430ef4level0_row5\" class=\"row_heading level0 row5\" >Hernandez High School</th>\n",
       "                        <td id=\"T_082751ac_79f3_11eb_b260_843835430ef4row5_col0\" class=\"data row5 col0\" >77.4</td>\n",
       "                        <td id=\"T_082751ac_79f3_11eb_b260_843835430ef4row5_col1\" class=\"data row5 col1\" >77.3</td>\n",
       "                        <td id=\"T_082751ac_79f3_11eb_b260_843835430ef4row5_col2\" class=\"data row5 col2\" >77.1</td>\n",
       "                        <td id=\"T_082751ac_79f3_11eb_b260_843835430ef4row5_col3\" class=\"data row5 col3\" >77.2</td>\n",
       "            </tr>\n",
       "            <tr>\n",
       "                        <th id=\"T_082751ac_79f3_11eb_b260_843835430ef4level0_row6\" class=\"row_heading level0 row6\" >Holden High School</th>\n",
       "                        <td id=\"T_082751ac_79f3_11eb_b260_843835430ef4row6_col0\" class=\"data row6 col0\" >83.8</td>\n",
       "                        <td id=\"T_082751ac_79f3_11eb_b260_843835430ef4row6_col1\" class=\"data row6 col1\" >83.4</td>\n",
       "                        <td id=\"T_082751ac_79f3_11eb_b260_843835430ef4row6_col2\" class=\"data row6 col2\" >85.0</td>\n",
       "                        <td id=\"T_082751ac_79f3_11eb_b260_843835430ef4row6_col3\" class=\"data row6 col3\" >82.9</td>\n",
       "            </tr>\n",
       "            <tr>\n",
       "                        <th id=\"T_082751ac_79f3_11eb_b260_843835430ef4level0_row7\" class=\"row_heading level0 row7\" >Huang High School</th>\n",
       "                        <td id=\"T_082751ac_79f3_11eb_b260_843835430ef4row7_col0\" class=\"data row7 col0\" >77.0</td>\n",
       "                        <td id=\"T_082751ac_79f3_11eb_b260_843835430ef4row7_col1\" class=\"data row7 col1\" >75.9</td>\n",
       "                        <td id=\"T_082751ac_79f3_11eb_b260_843835430ef4row7_col2\" class=\"data row7 col2\" >76.4</td>\n",
       "                        <td id=\"T_082751ac_79f3_11eb_b260_843835430ef4row7_col3\" class=\"data row7 col3\" >77.2</td>\n",
       "            </tr>\n",
       "            <tr>\n",
       "                        <th id=\"T_082751ac_79f3_11eb_b260_843835430ef4level0_row8\" class=\"row_heading level0 row8\" >Johnson High School</th>\n",
       "                        <td id=\"T_082751ac_79f3_11eb_b260_843835430ef4row8_col0\" class=\"data row8 col0\" >77.2</td>\n",
       "                        <td id=\"T_082751ac_79f3_11eb_b260_843835430ef4row8_col1\" class=\"data row8 col1\" >76.7</td>\n",
       "                        <td id=\"T_082751ac_79f3_11eb_b260_843835430ef4row8_col2\" class=\"data row8 col2\" >77.5</td>\n",
       "                        <td id=\"T_082751ac_79f3_11eb_b260_843835430ef4row8_col3\" class=\"data row8 col3\" >76.9</td>\n",
       "            </tr>\n",
       "            <tr>\n",
       "                        <th id=\"T_082751ac_79f3_11eb_b260_843835430ef4level0_row9\" class=\"row_heading level0 row9\" >Pena High School</th>\n",
       "                        <td id=\"T_082751ac_79f3_11eb_b260_843835430ef4row9_col0\" class=\"data row9 col0\" >83.6</td>\n",
       "                        <td id=\"T_082751ac_79f3_11eb_b260_843835430ef4row9_col1\" class=\"data row9 col1\" >83.4</td>\n",
       "                        <td id=\"T_082751ac_79f3_11eb_b260_843835430ef4row9_col2\" class=\"data row9 col2\" >84.3</td>\n",
       "                        <td id=\"T_082751ac_79f3_11eb_b260_843835430ef4row9_col3\" class=\"data row9 col3\" >84.1</td>\n",
       "            </tr>\n",
       "            <tr>\n",
       "                        <th id=\"T_082751ac_79f3_11eb_b260_843835430ef4level0_row10\" class=\"row_heading level0 row10\" >Rodriguez High School</th>\n",
       "                        <td id=\"T_082751ac_79f3_11eb_b260_843835430ef4row10_col0\" class=\"data row10 col0\" >76.9</td>\n",
       "                        <td id=\"T_082751ac_79f3_11eb_b260_843835430ef4row10_col1\" class=\"data row10 col1\" >76.6</td>\n",
       "                        <td id=\"T_082751ac_79f3_11eb_b260_843835430ef4row10_col2\" class=\"data row10 col2\" >76.4</td>\n",
       "                        <td id=\"T_082751ac_79f3_11eb_b260_843835430ef4row10_col3\" class=\"data row10 col3\" >77.7</td>\n",
       "            </tr>\n",
       "            <tr>\n",
       "                        <th id=\"T_082751ac_79f3_11eb_b260_843835430ef4level0_row11\" class=\"row_heading level0 row11\" >Shelton High School</th>\n",
       "                        <td id=\"T_082751ac_79f3_11eb_b260_843835430ef4row11_col0\" class=\"data row11 col0\" >83.4</td>\n",
       "                        <td id=\"T_082751ac_79f3_11eb_b260_843835430ef4row11_col1\" class=\"data row11 col1\" >82.9</td>\n",
       "                        <td id=\"T_082751ac_79f3_11eb_b260_843835430ef4row11_col2\" class=\"data row11 col2\" >83.4</td>\n",
       "                        <td id=\"T_082751ac_79f3_11eb_b260_843835430ef4row11_col3\" class=\"data row11 col3\" >83.8</td>\n",
       "            </tr>\n",
       "            <tr>\n",
       "                        <th id=\"T_082751ac_79f3_11eb_b260_843835430ef4level0_row12\" class=\"row_heading level0 row12\" >Thomas High School</th>\n",
       "                        <td id=\"T_082751ac_79f3_11eb_b260_843835430ef4row12_col0\" class=\"data row12 col0\" >83.6</td>\n",
       "                        <td id=\"T_082751ac_79f3_11eb_b260_843835430ef4row12_col1\" class=\"data row12 col1\" >83.1</td>\n",
       "                        <td id=\"T_082751ac_79f3_11eb_b260_843835430ef4row12_col2\" class=\"data row12 col2\" >83.5</td>\n",
       "                        <td id=\"T_082751ac_79f3_11eb_b260_843835430ef4row12_col3\" class=\"data row12 col3\" >83.5</td>\n",
       "            </tr>\n",
       "            <tr>\n",
       "                        <th id=\"T_082751ac_79f3_11eb_b260_843835430ef4level0_row13\" class=\"row_heading level0 row13\" >Wilson High School</th>\n",
       "                        <td id=\"T_082751ac_79f3_11eb_b260_843835430ef4row13_col0\" class=\"data row13 col0\" >83.1</td>\n",
       "                        <td id=\"T_082751ac_79f3_11eb_b260_843835430ef4row13_col1\" class=\"data row13 col1\" >83.7</td>\n",
       "                        <td id=\"T_082751ac_79f3_11eb_b260_843835430ef4row13_col2\" class=\"data row13 col2\" >83.2</td>\n",
       "                        <td id=\"T_082751ac_79f3_11eb_b260_843835430ef4row13_col3\" class=\"data row13 col3\" >83.0</td>\n",
       "            </tr>\n",
       "            <tr>\n",
       "                        <th id=\"T_082751ac_79f3_11eb_b260_843835430ef4level0_row14\" class=\"row_heading level0 row14\" >Wright High School</th>\n",
       "                        <td id=\"T_082751ac_79f3_11eb_b260_843835430ef4row14_col0\" class=\"data row14 col0\" >83.3</td>\n",
       "                        <td id=\"T_082751ac_79f3_11eb_b260_843835430ef4row14_col1\" class=\"data row14 col1\" >84.0</td>\n",
       "                        <td id=\"T_082751ac_79f3_11eb_b260_843835430ef4row14_col2\" class=\"data row14 col2\" >83.8</td>\n",
       "                        <td id=\"T_082751ac_79f3_11eb_b260_843835430ef4row14_col3\" class=\"data row14 col3\" >83.6</td>\n",
       "            </tr>\n",
       "    </tbody></table>"
      ],
      "text/plain": [
       "<pandas.io.formats.style.Styler at 0x7f8daeedbb10>"
      ]
     },
     "execution_count": 34,
     "metadata": {},
     "output_type": "execute_result"
    }
   ],
   "source": [
    "# Group each school Series by the school name for the average math score.\n",
    "ninth_math = student_data_df.loc[student_data_df['grade'] == '9th'].groupby('school_name')[\"math_score\"].mean()\n",
    "tenth_math = student_data_df.loc[student_data_df['grade'] == '10th'].groupby('school_name')[\"math_score\"].mean()\n",
    "eleventh_math = student_data_df.loc[student_data_df['grade'] == '11th'].groupby('school_name')[\"math_score\"].mean()\n",
    "twelfth_math = student_data_df.loc[student_data_df['grade'] == '12th'].groupby('school_name')[\"math_score\"].mean()\n",
    "\n",
    "math_scores = pd.DataFrame({\n",
    "        \"9th\": ninth_math,\n",
    "        \"10th\": tenth_math,\n",
    "        \"11th\": eleventh_math,\n",
    "        \"12th\": twelfth_math\n",
    "})\n",
    "math_scores = math_scores[['9th', '10th', '11th', '12th']]\n",
    "math_scores.index.name = \"school_name\"\n",
    "\n",
    "#show and format\n",
    "math_scores.style.format({'9th': '{:.1f}', \n",
    "                          \"10th\": '{:.1f}', \n",
    "                          \"11th\": \"{:.1f}\", \n",
    "                          \"12th\": \"{:.1f}\"})\n",
    "\n"
   ]
  },
  {
   "cell_type": "code",
   "execution_count": 35,
   "metadata": {},
   "outputs": [
    {
     "data": {
      "text/html": [
       "<style  type=\"text/css\" >\n",
       "</style><table id=\"T_08330cfe_79f3_11eb_b260_843835430ef4\" ><thead>    <tr>        <th class=\"blank level0\" ></th>        <th class=\"col_heading level0 col0\" >9th</th>        <th class=\"col_heading level0 col1\" >10th</th>        <th class=\"col_heading level0 col2\" >11th</th>        <th class=\"col_heading level0 col3\" >12th</th>    </tr>    <tr>        <th class=\"index_name level0\" >school_name</th>        <th class=\"blank\" ></th>        <th class=\"blank\" ></th>        <th class=\"blank\" ></th>        <th class=\"blank\" ></th>    </tr></thead><tbody>\n",
       "                <tr>\n",
       "                        <th id=\"T_08330cfe_79f3_11eb_b260_843835430ef4level0_row0\" class=\"row_heading level0 row0\" >Bailey High School</th>\n",
       "                        <td id=\"T_08330cfe_79f3_11eb_b260_843835430ef4row0_col0\" class=\"data row0 col0\" >81.3</td>\n",
       "                        <td id=\"T_08330cfe_79f3_11eb_b260_843835430ef4row0_col1\" class=\"data row0 col1\" >80.9</td>\n",
       "                        <td id=\"T_08330cfe_79f3_11eb_b260_843835430ef4row0_col2\" class=\"data row0 col2\" >80.9</td>\n",
       "                        <td id=\"T_08330cfe_79f3_11eb_b260_843835430ef4row0_col3\" class=\"data row0 col3\" >80.9</td>\n",
       "            </tr>\n",
       "            <tr>\n",
       "                        <th id=\"T_08330cfe_79f3_11eb_b260_843835430ef4level0_row1\" class=\"row_heading level0 row1\" >Cabrera High School</th>\n",
       "                        <td id=\"T_08330cfe_79f3_11eb_b260_843835430ef4row1_col0\" class=\"data row1 col0\" >83.7</td>\n",
       "                        <td id=\"T_08330cfe_79f3_11eb_b260_843835430ef4row1_col1\" class=\"data row1 col1\" >84.3</td>\n",
       "                        <td id=\"T_08330cfe_79f3_11eb_b260_843835430ef4row1_col2\" class=\"data row1 col2\" >83.8</td>\n",
       "                        <td id=\"T_08330cfe_79f3_11eb_b260_843835430ef4row1_col3\" class=\"data row1 col3\" >84.3</td>\n",
       "            </tr>\n",
       "            <tr>\n",
       "                        <th id=\"T_08330cfe_79f3_11eb_b260_843835430ef4level0_row2\" class=\"row_heading level0 row2\" >Figueroa High School</th>\n",
       "                        <td id=\"T_08330cfe_79f3_11eb_b260_843835430ef4row2_col0\" class=\"data row2 col0\" >81.2</td>\n",
       "                        <td id=\"T_08330cfe_79f3_11eb_b260_843835430ef4row2_col1\" class=\"data row2 col1\" >81.4</td>\n",
       "                        <td id=\"T_08330cfe_79f3_11eb_b260_843835430ef4row2_col2\" class=\"data row2 col2\" >80.6</td>\n",
       "                        <td id=\"T_08330cfe_79f3_11eb_b260_843835430ef4row2_col3\" class=\"data row2 col3\" >81.4</td>\n",
       "            </tr>\n",
       "            <tr>\n",
       "                        <th id=\"T_08330cfe_79f3_11eb_b260_843835430ef4level0_row3\" class=\"row_heading level0 row3\" >Ford High School</th>\n",
       "                        <td id=\"T_08330cfe_79f3_11eb_b260_843835430ef4row3_col0\" class=\"data row3 col0\" >80.6</td>\n",
       "                        <td id=\"T_08330cfe_79f3_11eb_b260_843835430ef4row3_col1\" class=\"data row3 col1\" >81.3</td>\n",
       "                        <td id=\"T_08330cfe_79f3_11eb_b260_843835430ef4row3_col2\" class=\"data row3 col2\" >80.4</td>\n",
       "                        <td id=\"T_08330cfe_79f3_11eb_b260_843835430ef4row3_col3\" class=\"data row3 col3\" >80.7</td>\n",
       "            </tr>\n",
       "            <tr>\n",
       "                        <th id=\"T_08330cfe_79f3_11eb_b260_843835430ef4level0_row4\" class=\"row_heading level0 row4\" >Griffin High School</th>\n",
       "                        <td id=\"T_08330cfe_79f3_11eb_b260_843835430ef4row4_col0\" class=\"data row4 col0\" >83.4</td>\n",
       "                        <td id=\"T_08330cfe_79f3_11eb_b260_843835430ef4row4_col1\" class=\"data row4 col1\" >83.7</td>\n",
       "                        <td id=\"T_08330cfe_79f3_11eb_b260_843835430ef4row4_col2\" class=\"data row4 col2\" >84.3</td>\n",
       "                        <td id=\"T_08330cfe_79f3_11eb_b260_843835430ef4row4_col3\" class=\"data row4 col3\" >84.0</td>\n",
       "            </tr>\n",
       "            <tr>\n",
       "                        <th id=\"T_08330cfe_79f3_11eb_b260_843835430ef4level0_row5\" class=\"row_heading level0 row5\" >Hernandez High School</th>\n",
       "                        <td id=\"T_08330cfe_79f3_11eb_b260_843835430ef4row5_col0\" class=\"data row5 col0\" >80.9</td>\n",
       "                        <td id=\"T_08330cfe_79f3_11eb_b260_843835430ef4row5_col1\" class=\"data row5 col1\" >80.7</td>\n",
       "                        <td id=\"T_08330cfe_79f3_11eb_b260_843835430ef4row5_col2\" class=\"data row5 col2\" >81.4</td>\n",
       "                        <td id=\"T_08330cfe_79f3_11eb_b260_843835430ef4row5_col3\" class=\"data row5 col3\" >80.9</td>\n",
       "            </tr>\n",
       "            <tr>\n",
       "                        <th id=\"T_08330cfe_79f3_11eb_b260_843835430ef4level0_row6\" class=\"row_heading level0 row6\" >Holden High School</th>\n",
       "                        <td id=\"T_08330cfe_79f3_11eb_b260_843835430ef4row6_col0\" class=\"data row6 col0\" >83.7</td>\n",
       "                        <td id=\"T_08330cfe_79f3_11eb_b260_843835430ef4row6_col1\" class=\"data row6 col1\" >83.3</td>\n",
       "                        <td id=\"T_08330cfe_79f3_11eb_b260_843835430ef4row6_col2\" class=\"data row6 col2\" >83.8</td>\n",
       "                        <td id=\"T_08330cfe_79f3_11eb_b260_843835430ef4row6_col3\" class=\"data row6 col3\" >84.7</td>\n",
       "            </tr>\n",
       "            <tr>\n",
       "                        <th id=\"T_08330cfe_79f3_11eb_b260_843835430ef4level0_row7\" class=\"row_heading level0 row7\" >Huang High School</th>\n",
       "                        <td id=\"T_08330cfe_79f3_11eb_b260_843835430ef4row7_col0\" class=\"data row7 col0\" >81.3</td>\n",
       "                        <td id=\"T_08330cfe_79f3_11eb_b260_843835430ef4row7_col1\" class=\"data row7 col1\" >81.5</td>\n",
       "                        <td id=\"T_08330cfe_79f3_11eb_b260_843835430ef4row7_col2\" class=\"data row7 col2\" >81.4</td>\n",
       "                        <td id=\"T_08330cfe_79f3_11eb_b260_843835430ef4row7_col3\" class=\"data row7 col3\" >80.3</td>\n",
       "            </tr>\n",
       "            <tr>\n",
       "                        <th id=\"T_08330cfe_79f3_11eb_b260_843835430ef4level0_row8\" class=\"row_heading level0 row8\" >Johnson High School</th>\n",
       "                        <td id=\"T_08330cfe_79f3_11eb_b260_843835430ef4row8_col0\" class=\"data row8 col0\" >81.3</td>\n",
       "                        <td id=\"T_08330cfe_79f3_11eb_b260_843835430ef4row8_col1\" class=\"data row8 col1\" >80.8</td>\n",
       "                        <td id=\"T_08330cfe_79f3_11eb_b260_843835430ef4row8_col2\" class=\"data row8 col2\" >80.6</td>\n",
       "                        <td id=\"T_08330cfe_79f3_11eb_b260_843835430ef4row8_col3\" class=\"data row8 col3\" >81.2</td>\n",
       "            </tr>\n",
       "            <tr>\n",
       "                        <th id=\"T_08330cfe_79f3_11eb_b260_843835430ef4level0_row9\" class=\"row_heading level0 row9\" >Pena High School</th>\n",
       "                        <td id=\"T_08330cfe_79f3_11eb_b260_843835430ef4row9_col0\" class=\"data row9 col0\" >83.8</td>\n",
       "                        <td id=\"T_08330cfe_79f3_11eb_b260_843835430ef4row9_col1\" class=\"data row9 col1\" >83.6</td>\n",
       "                        <td id=\"T_08330cfe_79f3_11eb_b260_843835430ef4row9_col2\" class=\"data row9 col2\" >84.3</td>\n",
       "                        <td id=\"T_08330cfe_79f3_11eb_b260_843835430ef4row9_col3\" class=\"data row9 col3\" >84.6</td>\n",
       "            </tr>\n",
       "            <tr>\n",
       "                        <th id=\"T_08330cfe_79f3_11eb_b260_843835430ef4level0_row10\" class=\"row_heading level0 row10\" >Rodriguez High School</th>\n",
       "                        <td id=\"T_08330cfe_79f3_11eb_b260_843835430ef4row10_col0\" class=\"data row10 col0\" >81.0</td>\n",
       "                        <td id=\"T_08330cfe_79f3_11eb_b260_843835430ef4row10_col1\" class=\"data row10 col1\" >80.6</td>\n",
       "                        <td id=\"T_08330cfe_79f3_11eb_b260_843835430ef4row10_col2\" class=\"data row10 col2\" >80.9</td>\n",
       "                        <td id=\"T_08330cfe_79f3_11eb_b260_843835430ef4row10_col3\" class=\"data row10 col3\" >80.4</td>\n",
       "            </tr>\n",
       "            <tr>\n",
       "                        <th id=\"T_08330cfe_79f3_11eb_b260_843835430ef4level0_row11\" class=\"row_heading level0 row11\" >Shelton High School</th>\n",
       "                        <td id=\"T_08330cfe_79f3_11eb_b260_843835430ef4row11_col0\" class=\"data row11 col0\" >84.1</td>\n",
       "                        <td id=\"T_08330cfe_79f3_11eb_b260_843835430ef4row11_col1\" class=\"data row11 col1\" >83.4</td>\n",
       "                        <td id=\"T_08330cfe_79f3_11eb_b260_843835430ef4row11_col2\" class=\"data row11 col2\" >84.4</td>\n",
       "                        <td id=\"T_08330cfe_79f3_11eb_b260_843835430ef4row11_col3\" class=\"data row11 col3\" >82.8</td>\n",
       "            </tr>\n",
       "            <tr>\n",
       "                        <th id=\"T_08330cfe_79f3_11eb_b260_843835430ef4level0_row12\" class=\"row_heading level0 row12\" >Thomas High School</th>\n",
       "                        <td id=\"T_08330cfe_79f3_11eb_b260_843835430ef4row12_col0\" class=\"data row12 col0\" >83.7</td>\n",
       "                        <td id=\"T_08330cfe_79f3_11eb_b260_843835430ef4row12_col1\" class=\"data row12 col1\" >84.3</td>\n",
       "                        <td id=\"T_08330cfe_79f3_11eb_b260_843835430ef4row12_col2\" class=\"data row12 col2\" >83.6</td>\n",
       "                        <td id=\"T_08330cfe_79f3_11eb_b260_843835430ef4row12_col3\" class=\"data row12 col3\" >83.8</td>\n",
       "            </tr>\n",
       "            <tr>\n",
       "                        <th id=\"T_08330cfe_79f3_11eb_b260_843835430ef4level0_row13\" class=\"row_heading level0 row13\" >Wilson High School</th>\n",
       "                        <td id=\"T_08330cfe_79f3_11eb_b260_843835430ef4row13_col0\" class=\"data row13 col0\" >83.9</td>\n",
       "                        <td id=\"T_08330cfe_79f3_11eb_b260_843835430ef4row13_col1\" class=\"data row13 col1\" >84.0</td>\n",
       "                        <td id=\"T_08330cfe_79f3_11eb_b260_843835430ef4row13_col2\" class=\"data row13 col2\" >83.8</td>\n",
       "                        <td id=\"T_08330cfe_79f3_11eb_b260_843835430ef4row13_col3\" class=\"data row13 col3\" >84.3</td>\n",
       "            </tr>\n",
       "            <tr>\n",
       "                        <th id=\"T_08330cfe_79f3_11eb_b260_843835430ef4level0_row14\" class=\"row_heading level0 row14\" >Wright High School</th>\n",
       "                        <td id=\"T_08330cfe_79f3_11eb_b260_843835430ef4row14_col0\" class=\"data row14 col0\" >83.8</td>\n",
       "                        <td id=\"T_08330cfe_79f3_11eb_b260_843835430ef4row14_col1\" class=\"data row14 col1\" >83.8</td>\n",
       "                        <td id=\"T_08330cfe_79f3_11eb_b260_843835430ef4row14_col2\" class=\"data row14 col2\" >84.2</td>\n",
       "                        <td id=\"T_08330cfe_79f3_11eb_b260_843835430ef4row14_col3\" class=\"data row14 col3\" >84.1</td>\n",
       "            </tr>\n",
       "    </tbody></table>"
      ],
      "text/plain": [
       "<pandas.io.formats.style.Styler at 0x7f8dade07a50>"
      ]
     },
     "execution_count": 35,
     "metadata": {},
     "output_type": "execute_result"
    }
   ],
   "source": [
    "#creates grade level average reading scores for each school\n",
    "ninth_reading = student_data_df.loc[student_data_df['grade'] == '9th'].groupby('school_name')[\"reading_score\"].mean()\n",
    "tenth_reading = student_data_df.loc[student_data_df['grade'] == '10th'].groupby('school_name')[\"reading_score\"].mean()\n",
    "eleventh_reading = student_data_df.loc[student_data_df['grade'] == '11th'].groupby('school_name')[\"reading_score\"].mean()\n",
    "twelfth_reading = student_data_df.loc[student_data_df['grade'] == '12th'].groupby('school_name')[\"reading_score\"].mean()\n",
    "\n",
    "#merges the reading score averages by school and grade together\n",
    "reading_scores = pd.DataFrame({\n",
    "        \"9th\": ninth_reading,\n",
    "        \"10th\": tenth_reading,\n",
    "        \"11th\": eleventh_reading,\n",
    "        \"12th\": twelfth_reading\n",
    "})\n",
    "reading_scores = reading_scores[['9th', '10th', '11th', '12th']]\n",
    "reading_scores.index.name = \"school_name\"\n",
    "\n",
    "#format\n",
    "reading_scores.style.format({'9th': '{:.1f}', \n",
    "                             \"10th\": '{:.1f}', \n",
    "                             \"11th\": \"{:.1f}\", \n",
    "                             \"12th\": \"{:.1f}\"})"
   ]
  },
  {
   "cell_type": "markdown",
   "metadata": {},
   "source": [
    "## Scores by School Spending"
   ]
  },
  {
   "cell_type": "code",
   "execution_count": 36,
   "metadata": {},
   "outputs": [],
   "source": [
    "# Establish the spending bins and group names.\n",
    "bins = [0, 584.999, 614.999, 644.999, 999999]\n",
    "group_name = ['< $585', \"$585 - 614\", \"$615 - 644\", \"> $644\"]\n",
    "per_school_summary_df['spending_bins'] = pd.cut(per_school_summary_df[\"Per Student Budget\"], bins, labels=group_name)\n"
   ]
  },
  {
   "cell_type": "code",
   "execution_count": 37,
   "metadata": {},
   "outputs": [],
   "source": [
    "# Calculate averages for the desired columns. \n",
    "avg_math = per_school_summary_df.groupby(\"spending_bins\").mean()['Average Math Score']\n",
    "avg_read = per_school_summary_df.groupby(\"spending_bins\").mean()['Average Reading Score']\n",
    "pass_math = per_school_summary_df.groupby(\"spending_bins\").mean()['% Passing Math']\n",
    "pass_read = per_school_summary_df.groupby(\"spending_bins\").mean()['% Passing Reading']\n",
    "overall = per_school_summary_df.groupby(\"spending_bins\").mean()['% Overall Passing']\n"
   ]
  },
  {
   "cell_type": "code",
   "execution_count": 38,
   "metadata": {},
   "outputs": [],
   "source": [
    "# Create the DataFrame\n",
    "scores_by_spend = pd.DataFrame({\n",
    "    \"Average Math Score\": avg_math,\n",
    "    \"Average Reading Score\": avg_read,\n",
    "    '% Passing Math': pass_math,\n",
    "    '% Passing Reading': pass_read,\n",
    "    \"% Overall Passing\": overall\n",
    "})"
   ]
  },
  {
   "cell_type": "code",
   "execution_count": 39,
   "metadata": {},
   "outputs": [
    {
     "data": {
      "text/html": [
       "<style  type=\"text/css\" >\n",
       "</style><table id=\"T_084324d6_79f3_11eb_b260_843835430ef4\" ><thead>    <tr>        <th class=\"blank level0\" ></th>        <th class=\"col_heading level0 col0\" >Average Math Score</th>        <th class=\"col_heading level0 col1\" >Average Reading Score</th>        <th class=\"col_heading level0 col2\" >% Passing Math</th>        <th class=\"col_heading level0 col3\" >% Passing Reading</th>        <th class=\"col_heading level0 col4\" >% Overall Passing</th>    </tr>    <tr>        <th class=\"index_name level0\" >spending_bins</th>        <th class=\"blank\" ></th>        <th class=\"blank\" ></th>        <th class=\"blank\" ></th>        <th class=\"blank\" ></th>        <th class=\"blank\" ></th>    </tr></thead><tbody>\n",
       "                <tr>\n",
       "                        <th id=\"T_084324d6_79f3_11eb_b260_843835430ef4level0_row0\" class=\"row_heading level0 row0\" >< $585</th>\n",
       "                        <td id=\"T_084324d6_79f3_11eb_b260_843835430ef4row0_col0\" class=\"data row0 col0\" >83.5</td>\n",
       "                        <td id=\"T_084324d6_79f3_11eb_b260_843835430ef4row0_col1\" class=\"data row0 col1\" >83.9</td>\n",
       "                        <td id=\"T_084324d6_79f3_11eb_b260_843835430ef4row0_col2\" class=\"data row0 col2\" >93.5%</td>\n",
       "                        <td id=\"T_084324d6_79f3_11eb_b260_843835430ef4row0_col3\" class=\"data row0 col3\" >96.6%</td>\n",
       "                        <td id=\"T_084324d6_79f3_11eb_b260_843835430ef4row0_col4\" class=\"data row0 col4\" >90.4%</td>\n",
       "            </tr>\n",
       "            <tr>\n",
       "                        <th id=\"T_084324d6_79f3_11eb_b260_843835430ef4level0_row1\" class=\"row_heading level0 row1\" >$585 - 614</th>\n",
       "                        <td id=\"T_084324d6_79f3_11eb_b260_843835430ef4row1_col0\" class=\"data row1 col0\" >83.6</td>\n",
       "                        <td id=\"T_084324d6_79f3_11eb_b260_843835430ef4row1_col1\" class=\"data row1 col1\" >83.9</td>\n",
       "                        <td id=\"T_084324d6_79f3_11eb_b260_843835430ef4row1_col2\" class=\"data row1 col2\" >94.2%</td>\n",
       "                        <td id=\"T_084324d6_79f3_11eb_b260_843835430ef4row1_col3\" class=\"data row1 col3\" >95.9%</td>\n",
       "                        <td id=\"T_084324d6_79f3_11eb_b260_843835430ef4row1_col4\" class=\"data row1 col4\" >90.2%</td>\n",
       "            </tr>\n",
       "            <tr>\n",
       "                        <th id=\"T_084324d6_79f3_11eb_b260_843835430ef4level0_row2\" class=\"row_heading level0 row2\" >$615 - 644</th>\n",
       "                        <td id=\"T_084324d6_79f3_11eb_b260_843835430ef4row2_col0\" class=\"data row2 col0\" >79.1</td>\n",
       "                        <td id=\"T_084324d6_79f3_11eb_b260_843835430ef4row2_col1\" class=\"data row2 col1\" >81.9</td>\n",
       "                        <td id=\"T_084324d6_79f3_11eb_b260_843835430ef4row2_col2\" class=\"data row2 col2\" >75.7%</td>\n",
       "                        <td id=\"T_084324d6_79f3_11eb_b260_843835430ef4row2_col3\" class=\"data row2 col3\" >86.1%</td>\n",
       "                        <td id=\"T_084324d6_79f3_11eb_b260_843835430ef4row2_col4\" class=\"data row2 col4\" >66.1%</td>\n",
       "            </tr>\n",
       "            <tr>\n",
       "                        <th id=\"T_084324d6_79f3_11eb_b260_843835430ef4level0_row3\" class=\"row_heading level0 row3\" >> $644</th>\n",
       "                        <td id=\"T_084324d6_79f3_11eb_b260_843835430ef4row3_col0\" class=\"data row3 col0\" >77.0</td>\n",
       "                        <td id=\"T_084324d6_79f3_11eb_b260_843835430ef4row3_col1\" class=\"data row3 col1\" >81.0</td>\n",
       "                        <td id=\"T_084324d6_79f3_11eb_b260_843835430ef4row3_col2\" class=\"data row3 col2\" >66.2%</td>\n",
       "                        <td id=\"T_084324d6_79f3_11eb_b260_843835430ef4row3_col3\" class=\"data row3 col3\" >81.1%</td>\n",
       "                        <td id=\"T_084324d6_79f3_11eb_b260_843835430ef4row3_col4\" class=\"data row3 col4\" >53.5%</td>\n",
       "            </tr>\n",
       "    </tbody></table>"
      ],
      "text/plain": [
       "<pandas.io.formats.style.Styler at 0x7f8daf8b4fd0>"
      ]
     },
     "execution_count": 39,
     "metadata": {},
     "output_type": "execute_result"
    }
   ],
   "source": [
    "# Format the DataFrame \n",
    "scores_by_spend.style.format({'Average Math Score': '{:.1f}', \n",
    "                              'Average Reading Score': '{:.1f}', \n",
    "                              '% Passing Math': '{:.1f}%', \n",
    "                              '% Passing Reading':'{:.1f}%', \n",
    "                              '% Overall Passing': '{:.1f}%'})"
   ]
  },
  {
   "cell_type": "code",
   "execution_count": null,
   "metadata": {},
   "outputs": [],
   "source": []
  },
  {
   "cell_type": "markdown",
   "metadata": {},
   "source": [
    "## Scores by School Size"
   ]
  },
  {
   "cell_type": "code",
   "execution_count": 40,
   "metadata": {},
   "outputs": [],
   "source": [
    "# Establish the bins.\n",
    "bins = [0, 999, 1999, 99999999999]\n",
    "group_name = [\"Small (<1000)\", \"Medium (1000-2000)\" , \"Large (>2000)\"]\n",
    "per_school_summary_df['size_bins'] = pd.cut(per_school_summary_df['Total Students'], bins, labels = group_name)\n",
    "\n",
    "#calculations \n",
    "avg_math = per_school_summary_df.groupby(\"size_bins\").mean()['Average Math Score']\n",
    "avg_read = per_school_summary_df.groupby(\"size_bins\").mean()['Average Reading Score']\n",
    "pass_math = per_school_summary_df.groupby(\"size_bins\").mean()['% Passing Math']\n",
    "pass_read = per_school_summary_df.groupby(\"size_bins\").mean()['% Passing Reading']\n",
    "overall = per_school_summary_df.groupby(\"size_bins\").mean()['% Overall Passing']\n"
   ]
  },
  {
   "cell_type": "code",
   "execution_count": 41,
   "metadata": {
    "scrolled": true
   },
   "outputs": [],
   "source": [
    "# Assemble into DataFrame. \n",
    "scores_by_size = pd.DataFrame({\n",
    "    \"Average Math Score\": avg_math,\n",
    "    \"Average Reading Score\": avg_read,\n",
    "    '% Passing Math': pass_math,\n",
    "    '% Passing Reading': pass_read,\n",
    "    \"% Overall Passing\": overall\n",
    "            \n",
    "})\n",
    "            \n",
    "#reorder columns\n",
    "scores_by_size = scores_by_size[[\n",
    "    \"Average Math Score\",\n",
    "    \"Average Reading Score\",\n",
    "    '% Passing Math',\n",
    "    '% Passing Reading',\n",
    "    \"% Overall Passing\"\n",
    "]]\n",
    "\n",
    "scores_by_size.index.name = \"Total Students\"\n",
    "scores_by_size = scores_by_size.reindex(group_name)"
   ]
  },
  {
   "cell_type": "code",
   "execution_count": 42,
   "metadata": {},
   "outputs": [
    {
     "data": {
      "text/html": [
       "<style  type=\"text/css\" >\n",
       "</style><table id=\"T_085195ca_79f3_11eb_b260_843835430ef4\" ><thead>    <tr>        <th class=\"blank level0\" ></th>        <th class=\"col_heading level0 col0\" >Average Math Score</th>        <th class=\"col_heading level0 col1\" >Average Reading Score</th>        <th class=\"col_heading level0 col2\" >% Passing Math</th>        <th class=\"col_heading level0 col3\" >% Passing Reading</th>        <th class=\"col_heading level0 col4\" >% Overall Passing</th>    </tr>    <tr>        <th class=\"index_name level0\" >Total Students</th>        <th class=\"blank\" ></th>        <th class=\"blank\" ></th>        <th class=\"blank\" ></th>        <th class=\"blank\" ></th>        <th class=\"blank\" ></th>    </tr></thead><tbody>\n",
       "                <tr>\n",
       "                        <th id=\"T_085195ca_79f3_11eb_b260_843835430ef4level0_row0\" class=\"row_heading level0 row0\" >Small (<1000)</th>\n",
       "                        <td id=\"T_085195ca_79f3_11eb_b260_843835430ef4row0_col0\" class=\"data row0 col0\" >83.8</td>\n",
       "                        <td id=\"T_085195ca_79f3_11eb_b260_843835430ef4row0_col1\" class=\"data row0 col1\" >83.9</td>\n",
       "                        <td id=\"T_085195ca_79f3_11eb_b260_843835430ef4row0_col2\" class=\"data row0 col2\" >93.6%</td>\n",
       "                        <td id=\"T_085195ca_79f3_11eb_b260_843835430ef4row0_col3\" class=\"data row0 col3\" >96.1%</td>\n",
       "                        <td id=\"T_085195ca_79f3_11eb_b260_843835430ef4row0_col4\" class=\"data row0 col4\" >89.883853</td>\n",
       "            </tr>\n",
       "            <tr>\n",
       "                        <th id=\"T_085195ca_79f3_11eb_b260_843835430ef4level0_row1\" class=\"row_heading level0 row1\" >Medium (1000-2000)</th>\n",
       "                        <td id=\"T_085195ca_79f3_11eb_b260_843835430ef4row1_col0\" class=\"data row1 col0\" >83.4</td>\n",
       "                        <td id=\"T_085195ca_79f3_11eb_b260_843835430ef4row1_col1\" class=\"data row1 col1\" >83.9</td>\n",
       "                        <td id=\"T_085195ca_79f3_11eb_b260_843835430ef4row1_col2\" class=\"data row1 col2\" >93.6%</td>\n",
       "                        <td id=\"T_085195ca_79f3_11eb_b260_843835430ef4row1_col3\" class=\"data row1 col3\" >96.8%</td>\n",
       "                        <td id=\"T_085195ca_79f3_11eb_b260_843835430ef4row1_col4\" class=\"data row1 col4\" >90.621535</td>\n",
       "            </tr>\n",
       "            <tr>\n",
       "                        <th id=\"T_085195ca_79f3_11eb_b260_843835430ef4level0_row2\" class=\"row_heading level0 row2\" >Large (>2000)</th>\n",
       "                        <td id=\"T_085195ca_79f3_11eb_b260_843835430ef4row2_col0\" class=\"data row2 col0\" >77.7</td>\n",
       "                        <td id=\"T_085195ca_79f3_11eb_b260_843835430ef4row2_col1\" class=\"data row2 col1\" >81.3</td>\n",
       "                        <td id=\"T_085195ca_79f3_11eb_b260_843835430ef4row2_col2\" class=\"data row2 col2\" >70.0%</td>\n",
       "                        <td id=\"T_085195ca_79f3_11eb_b260_843835430ef4row2_col3\" class=\"data row2 col3\" >82.8%</td>\n",
       "                        <td id=\"T_085195ca_79f3_11eb_b260_843835430ef4row2_col4\" class=\"data row2 col4\" >58.286003</td>\n",
       "            </tr>\n",
       "    </tbody></table>"
      ],
      "text/plain": [
       "<pandas.io.formats.style.Styler at 0x7f8daf8b4350>"
      ]
     },
     "execution_count": 42,
     "metadata": {},
     "output_type": "execute_result"
    }
   ],
   "source": [
    "# Format the DataFrame  \n",
    "scores_by_size.style.format({'Average Math Score': '{:.1f}', \n",
    "                              'Average Reading Score': '{:.1f}', \n",
    "                              '% Passing Math': '{:.1f}%', \n",
    "                              '% Passing Reading':'{:.1f}%', \n",
    "                              'Overall Passing Rate': '{:.1f}%'})"
   ]
  },
  {
   "cell_type": "markdown",
   "metadata": {},
   "source": [
    "## Scores by School Type"
   ]
  },
  {
   "cell_type": "code",
   "execution_count": 43,
   "metadata": {},
   "outputs": [],
   "source": [
    "# Calculate averages for the desired columns. \n",
    "by_type = per_school_summary_df.groupby(\"School Type\")\n",
    "bins = [\"Charter\", \"District\"]\n",
    "#group_name = [\"Charter\", \"District\"]\n",
    "#per_school_summary_df[''] = pd.cut(per_school_summary_df['Total Students'], bins, labels = group_name)\n",
    "\n",
    "#per_school_summary_df = per_school_summary_df.groupby(\"School Type\")\n",
    "\n",
    "#calculations \n",
    "avg_math = per_school_summary_df.groupby(\"School Type\").mean()['Average Math Score']\n",
    "avg_read = per_school_summary_df.groupby(\"School Type\").mean()['Average Reading Score']\n",
    "pass_math = per_school_summary_df.groupby(\"School Type\").mean()['% Passing Math']\n",
    "pass_read = per_school_summary_df.groupby(\"School Type\").mean()['% Passing Reading']\n",
    "overall = per_school_summary_df.groupby(\"School Type\").mean()['% Overall Passing']\n"
   ]
  },
  {
   "cell_type": "code",
   "execution_count": 44,
   "metadata": {},
   "outputs": [],
   "source": [
    "# Assemble into DataFrame. \n",
    "scores_by_type = pd.DataFrame({\n",
    "    \"Average Math Score\": avg_math,\n",
    "    \"Average Reading Score\": avg_read,\n",
    "    '% Passing Math': pass_math,\n",
    "    '% Passing Reading': pass_read,\n",
    "    \"% Overall Passing\": overall\n",
    "            \n",
    "})"
   ]
  },
  {
   "cell_type": "code",
   "execution_count": 45,
   "metadata": {},
   "outputs": [
    {
     "data": {
      "text/html": [
       "<style  type=\"text/css\" >\n",
       "</style><table id=\"T_085e676e_79f3_11eb_b260_843835430ef4\" ><thead>    <tr>        <th class=\"blank level0\" ></th>        <th class=\"col_heading level0 col0\" >Average Math Score</th>        <th class=\"col_heading level0 col1\" >Average Reading Score</th>        <th class=\"col_heading level0 col2\" >% Passing Math</th>        <th class=\"col_heading level0 col3\" >% Passing Reading</th>        <th class=\"col_heading level0 col4\" >% Overall Passing</th>    </tr>    <tr>        <th class=\"index_name level0\" >Type of School</th>        <th class=\"blank\" ></th>        <th class=\"blank\" ></th>        <th class=\"blank\" ></th>        <th class=\"blank\" ></th>        <th class=\"blank\" ></th>    </tr></thead><tbody>\n",
       "                <tr>\n",
       "                        <th id=\"T_085e676e_79f3_11eb_b260_843835430ef4level0_row0\" class=\"row_heading level0 row0\" >Charter</th>\n",
       "                        <td id=\"T_085e676e_79f3_11eb_b260_843835430ef4row0_col0\" class=\"data row0 col0\" >83.5</td>\n",
       "                        <td id=\"T_085e676e_79f3_11eb_b260_843835430ef4row0_col1\" class=\"data row0 col1\" >83.9</td>\n",
       "                        <td id=\"T_085e676e_79f3_11eb_b260_843835430ef4row0_col2\" class=\"data row0 col2\" >93.6%</td>\n",
       "                        <td id=\"T_085e676e_79f3_11eb_b260_843835430ef4row0_col3\" class=\"data row0 col3\" >96.6%</td>\n",
       "                        <td id=\"T_085e676e_79f3_11eb_b260_843835430ef4row0_col4\" class=\"data row0 col4\" >90.4%</td>\n",
       "            </tr>\n",
       "            <tr>\n",
       "                        <th id=\"T_085e676e_79f3_11eb_b260_843835430ef4level0_row1\" class=\"row_heading level0 row1\" >District</th>\n",
       "                        <td id=\"T_085e676e_79f3_11eb_b260_843835430ef4row1_col0\" class=\"data row1 col0\" >77.0</td>\n",
       "                        <td id=\"T_085e676e_79f3_11eb_b260_843835430ef4row1_col1\" class=\"data row1 col1\" >81.0</td>\n",
       "                        <td id=\"T_085e676e_79f3_11eb_b260_843835430ef4row1_col2\" class=\"data row1 col2\" >66.5%</td>\n",
       "                        <td id=\"T_085e676e_79f3_11eb_b260_843835430ef4row1_col3\" class=\"data row1 col3\" >80.8%</td>\n",
       "                        <td id=\"T_085e676e_79f3_11eb_b260_843835430ef4row1_col4\" class=\"data row1 col4\" >53.7%</td>\n",
       "            </tr>\n",
       "    </tbody></table>"
      ],
      "text/plain": [
       "<pandas.io.formats.style.Styler at 0x7f8dade1ba10>"
      ]
     },
     "execution_count": 45,
     "metadata": {},
     "output_type": "execute_result"
    }
   ],
   "source": [
    "# # Format the DataFrame \n",
    "scores_by_type = scores_by_type[[\n",
    "    \"Average Math Score\",\n",
    "    \"Average Reading Score\",\n",
    "    '% Passing Math',\n",
    "    '% Passing Reading',\n",
    "    \"% Overall Passing\"\n",
    "]]\n",
    "scores_by_type.index.name = \"Type of School\"\n",
    "\n",
    "\n",
    "#formating\n",
    "scores_by_type.style.format({'Average Math Score': '{:.1f}', \n",
    "                              'Average Reading Score': '{:.1f}', \n",
    "                              '% Passing Math': '{:.1f}%', \n",
    "                              '% Passing Reading':'{:.1f}%', \n",
    "                              '% Overall Passing': '{:.1f}%'})"
   ]
  },
  {
   "cell_type": "code",
   "execution_count": null,
   "metadata": {},
   "outputs": [],
   "source": []
  }
 ],
 "metadata": {
  "anaconda-cloud": {},
  "kernel_info": {
   "name": "python3"
  },
  "kernelspec": {
   "display_name": "PythonData",
   "language": "python",
   "name": "pythondata"
  },
  "language_info": {
   "codemirror_mode": {
    "name": "ipython",
    "version": 3
   },
   "file_extension": ".py",
   "mimetype": "text/x-python",
   "name": "python",
   "nbconvert_exporter": "python",
   "pygments_lexer": "ipython3",
   "version": "3.7.9"
  },
  "nteract": {
   "version": "0.8.4"
  }
 },
 "nbformat": 4,
 "nbformat_minor": 1
}
